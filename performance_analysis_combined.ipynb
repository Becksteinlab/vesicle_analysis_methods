{
 "cells": [
  {
   "cell_type": "code",
   "execution_count": 1,
   "metadata": {
    "collapsed": false
   },
   "outputs": [
    {
     "name": "stdout",
     "output_type": "stream",
     "text": [
      "MDA version: 0.11.0\n"
     ]
    }
   ],
   "source": [
    "import MDAnalysis as mda\n",
    "import time\n",
    "import os\n",
    "import numpy\n",
    "from multiprocessing import Pool\n",
    "import matplotlib.pyplot as plt\n",
    "import numpy as np\n",
    "import pandas as pd\n",
    "import glob\n",
    "import vesicle_analysis_methods as vam\n",
    "%matplotlib inline\n",
    "print(\"MDA version: \" + mda.__version__)"
   ]
  },
  {
   "cell_type": "markdown",
   "metadata": {},
   "source": [
    "# Spuddafett Performance"
   ]
  },
  {
   "cell_type": "code",
   "execution_count": 2,
   "metadata": {
    "collapsed": false
   },
   "outputs": [
    {
     "name": "stdout",
     "output_type": "stream",
     "text": [
      "Pickle loaded\n"
     ]
    }
   ],
   "source": [
    "hostname = \"spuddafett\"\n",
    "fig_dir = \"/nfs/homes/ikenney/Projects/vesicles/scripts/analysis/figs/\"\n",
    "data_dir = \"/nfs/homes/ikenney/Projects/vesicles/scripts/analysis/data/\"\n",
    "systems_dir = \"/nfs/homes/ikenney/Projects/vesicles/scripts/analysis/systems/\"\n",
    "\n",
    "def fig_save(inputs):\n",
    "    paths = [fig_dir+inputs.replace(\" \",\"_\").lower()+\".png\",fig_dir+inputs.replace(\" \",\"_\").lower()+\".pdf\"]\n",
    "    for p in paths:\n",
    "        plt.savefig(p)\n",
    "        \n",
    "if os.path.exists(data_dir+\"performance_combined.df\"):\n",
    "    systems = pd.read_pickle(data_dir+\"performance_combined.df\")\n",
    "    print(\"Pickle loaded\")\n",
    "else:\n",
    "    systems = pd.DataFrame(index=values+['1_5M','3M'])\n",
    "    location = '/nfs/homes/ikenney/Projects/vesicles/vesicle_library/lib/{}/'.format('rad_gpu')\n",
    "    pd.DataFrame()\n",
    "    tops = list((location+'%s/nvt/nvt.tpr') % v for v in values)\n",
    "    traj = list((location+'%s/nvt/nvt.xtc') % v for v in values)\n",
    "    gros = list((location+'%s/emin/emin.gro') % v for v in values)\n",
    "    pdbs = list((location+'%s/emin/emin.pdb') % v for v in values)\n",
    "    systems['tops'] = list((location+'%s/nvt/nvt.tpr') % v for v in systems.index.tolist())\n",
    "    systems['traj'] = list((location+'%s/nvt/nvt.xtc') % v for v in systems.index.tolist())\n",
    "    systems['gros'] = list((location+'%s/emin/emin.gro') % v for v in systems.index.tolist())\n",
    "    systems['pdbs'] = list((location+'%s/emin/emin.pdb') % v for v in systems.index.tolist())\n",
    "    systems['sizes'] = list(mda.Universe((location+'%s/emin/emin.tpr') % v).atoms.n_atoms for v in systems.index.tolist())\n",
    "    print(\"Pickle not loaded and not ready, sir. Creating new dataframe\")\n",
    "    systems.to_pickle(\"performance_combined.df\")"
   ]
  },
  {
   "cell_type": "code",
   "execution_count": 3,
   "metadata": {
    "collapsed": false,
    "scrolled": true
   },
   "outputs": [
    {
     "name": "stdout",
     "output_type": "stream",
     "text": [
      "'super' not found. Build? (y/n)\n",
      "Build:\tn\n",
      "'cannon' not found. Build? (y/n)\n",
      "Build:\ty\n",
      "Added to build list.\n",
      "\n",
      "Building system in: /nfs/homes/ikenney/Projects/vesicles/scripts/analysis/systems/cannon\n",
      "Missing path:\t/nfs/homes/ikenney/Projects/vesicles/scripts/analysis/systems/cannon/emin/emin.pdb\n"
     ]
    }
   ],
   "source": [
    "testing = vam.integrity(systems,N=3)"
   ]
  },
  {
   "cell_type": "code",
   "execution_count": null,
   "metadata": {
    "collapsed": true
   },
   "outputs": [],
   "source": [
    "testing = pd.read_pickle(\"backup.df\")"
   ]
  },
  {
   "cell_type": "code",
   "execution_count": null,
   "metadata": {
    "collapsed": false
   },
   "outputs": [],
   "source": [
    "testing = vam.integrity(testing)"
   ]
  },
  {
   "cell_type": "markdown",
   "metadata": {},
   "source": [
    "## Radius of Gyration"
   ]
  },
  {
   "cell_type": "code",
   "execution_count": null,
   "metadata": {
    "collapsed": false
   },
   "outputs": [],
   "source": [
    "def performance(a):\n",
    "    u = mda.Universe(a[0],a[1])\n",
    "    vals = []\n",
    "    for frame in u.trajectory:\n",
    "        start = time.time()\n",
    "        u.atoms.radiusOfGyration()\n",
    "        vals.append(time.time()-start)\n",
    "    return vals"
   ]
  },
  {
   "cell_type": "markdown",
   "metadata": {},
   "source": [
    "Record times to perform radius of gyration calculations on each data set"
   ]
  },
  {
   "cell_type": "code",
   "execution_count": null,
   "metadata": {
    "collapsed": true
   },
   "outputs": [],
   "source": [
    "p = Pool(len(values))\n",
    "processlist = list([systems['tops'][x],systems['traj'][x],systems['sizes'][x]] for x in range(len(systems)))\n",
    "data = p.map(performance,processlist)\n",
    "systems['rgyr'] = data\n",
    "p.close()\n",
    "timedata = np.array([[np.mean(x),np.std(x)] for x in data])\n",
    "systems['rgyr_mean'] = list(np.mean(r) for r in systems['rgyr'])\n",
    "systems['rgyr_std'] = list(np.std(r) for r in systems['rgyr'])\n",
    "systems.to_pickle(\"performance_combined.df\")"
   ]
  },
  {
   "cell_type": "code",
   "execution_count": null,
   "metadata": {
    "collapsed": false
   },
   "outputs": [],
   "source": [
    "#plt.figure(figsize=(8,4))\n",
    "plt.title(\"Radius of Gyration Performance on {}\".format(hostname))\n",
    "plt.xlabel(\"System Size (atoms)\")\n",
    "plt.ylabel(\"Calculation time (s)\")\n",
    "plt.errorbar(systems['sizes'],systems['rgyr_mean'],yerr=systems['rgyr_std'])\n",
    "#plt.savefig(\"/nfs/homes/ikenney/report/figs/geometric/calc_time_vs_system.png\")\n",
    "#plt.savefig(\"/nfs/homes/ikenney/report/figs/geometric/calc_time_vs_system.pdf\")"
   ]
  },
  {
   "cell_type": "markdown",
   "metadata": {},
   "source": [
    "## Load Times"
   ]
  },
  {
   "cell_type": "markdown",
   "metadata": {},
   "source": [
    "Record times for loading universes with different schemes"
   ]
  },
  {
   "cell_type": "markdown",
   "metadata": {},
   "source": [
    "### TPR and XTC"
   ]
  },
  {
   "cell_type": "code",
   "execution_count": null,
   "metadata": {
    "collapsed": false
   },
   "outputs": [],
   "source": [
    "N = 40\n",
    "def performanceload(a):\n",
    "    res = a[3]\n",
    "    def load():\n",
    "        start = time.time()\n",
    "        u = mda.Universe(a[0],a[1])\n",
    "        return time.time() - start\n",
    "    return [load() for _ in range(res)]"
   ]
  },
  {
   "cell_type": "code",
   "execution_count": null,
   "metadata": {
    "collapsed": false
   },
   "outputs": [],
   "source": [
    "N = 40\n",
    "p = Pool(len(values))\n",
    "processlist = list([systems['tops'][x],systems['traj'][x],systems['sizes'],N] for x in range(len(systems.index.tolist())))\n",
    "dataload = p.map(performanceload,processlist)\n",
    "systems['load_tpr_xtc'] = dataload\n",
    "p.close()\n",
    "systems['load_tpr_xtc_mean'] = list(np.mean(r) for r in systems['load_tpr_xtc'])\n",
    "systems['load_tpr_xtc_std'] = list(np.std(r) for r in systems['load_tpr_xtc'])\n",
    "systems.to_pickle(\"performance_combined.df\")"
   ]
  },
  {
   "cell_type": "code",
   "execution_count": null,
   "metadata": {
    "collapsed": true
   },
   "outputs": [],
   "source": [
    "systems.to_pickle(\"performance_combined.df\")"
   ]
  },
  {
   "cell_type": "code",
   "execution_count": null,
   "metadata": {
    "collapsed": true
   },
   "outputs": [],
   "source": [
    "systems['load_tpr_xtc_median'] = list(np.median(r) for r in systems['load_tpr_xtc'])"
   ]
  },
  {
   "cell_type": "code",
   "execution_count": null,
   "metadata": {
    "collapsed": false
   },
   "outputs": [],
   "source": [
    "N = 40\n",
    "inputs = \"TPR and XTC\"\n",
    "#plt.figure(figsize=(8,4))\n",
    "plt.title(\"Load Time Performance on {0} loading {1} ({2} runs)\".format(hostname,inputs,N))\n",
    "plt.xlabel(\"System Size (atoms)\")\n",
    "plt.ylabel(\"Load time (s)\")\n",
    "A = plt.errorbar(systems['sizes'],systems['load_tpr_xtc_mean'],yerr=systems['load_tpr_xtc_std'])\n",
    "fig_save(inputs)"
   ]
  },
  {
   "cell_type": "markdown",
   "metadata": {},
   "source": [
    "### GRO only"
   ]
  },
  {
   "cell_type": "code",
   "execution_count": null,
   "metadata": {
    "collapsed": false
   },
   "outputs": [],
   "source": [
    "N = 40\n",
    "def performanceload(a):\n",
    "    res = a[2]\n",
    "    def load():\n",
    "        start = time.time()\n",
    "        u = mda.Universe(a[0])\n",
    "        return time.time() - start\n",
    "    return [load() for _ in range(res)]"
   ]
  },
  {
   "cell_type": "code",
   "execution_count": null,
   "metadata": {
    "collapsed": true
   },
   "outputs": [],
   "source": [
    "p = Pool(len(values))\n",
    "processlist = list([systems['gros'][x],systems['sizes'][x],N] for x in range(len(systems)))\n",
    "dataload = p.map(performanceload,processlist) \n",
    "systems['load_gro'] = dataload\n",
    "p.close()\n",
    "systems['load_gro_mean'] = list(np.mean(r) for r in systems['load_gro'])\n",
    "systems['load_gro_std'] = list(np.std(r) for r in systems['load_gro'])\n",
    "systems.to_pickle(\"performance_combined.df\")"
   ]
  },
  {
   "cell_type": "code",
   "execution_count": null,
   "metadata": {
    "collapsed": false
   },
   "outputs": [],
   "source": [
    "inputs = \"GRO\"\n",
    "#plt.figure(figsize=(8,4))\n",
    "plt.title(\"Load Time Performance on {0} loading {1} ({2} runs)\".format(hostname,inputs,N))\n",
    "plt.xlabel(\"System Size (atoms)\")\n",
    "plt.ylabel(\"Load time (s)\")\n",
    "B = plt.errorbar(systems['sizes'],systems['load_gro_mean'],yerr=systems['load_gro_std'])\n",
    "#plt.savefig(\"/nfs/homes/ikenney/report/figs/loading/\"+inputs.replace(\" \",\"_\").lower())\n",
    "#plt.savefig(\"/nfs/homes/ikenney/report/figs/loading/\"+inputs.replace(\" \",\"_\").lower()+\".pdf\")"
   ]
  },
  {
   "cell_type": "markdown",
   "metadata": {},
   "source": [
    "## PDB only"
   ]
  },
  {
   "cell_type": "code",
   "execution_count": null,
   "metadata": {
    "collapsed": false
   },
   "outputs": [],
   "source": [
    "N = 40\n",
    "def performanceload(a):\n",
    "    res = a[2]\n",
    "    def load():\n",
    "        start = time.time()\n",
    "        u = mda.Universe(a[0])\n",
    "        return time.time() - start\n",
    "    return [load() for _ in range(res)]"
   ]
  },
  {
   "cell_type": "code",
   "execution_count": null,
   "metadata": {
    "collapsed": false
   },
   "outputs": [],
   "source": [
    "p = Pool(len(values))\n",
    "processlist = list([systems['pdbs'][x],systems['sizes'][x],N] for x in range(len(systems)))\n",
    "dataload = p.map(performanceload,processlist)   \n",
    "systems[\"load_pdb\"] = dataload\n",
    "p.close()\n",
    "systems['load_pdb_mean'] = list(np.mean(r) for r in systems['load_pdb'])\n",
    "systems['load_pdb_std'] = list(np.std(r) for r in systems['load_pdb'])\n",
    "systems.to_pickle(\"performance_combined.df\")"
   ]
  },
  {
   "cell_type": "code",
   "execution_count": null,
   "metadata": {
    "collapsed": false
   },
   "outputs": [],
   "source": [
    "inputs = \"PDB\"\n",
    "#plt.figure(figsize=(8,4))\n",
    "plt.title(\"Load Time Performance on {0} loading {1} ({2} runs)\".format(hostname,inputs,N))\n",
    "plt.xlabel(\"System Size (atoms)\")\n",
    "plt.ylabel(\"Load time (s)\")\n",
    "C = plt.errorbar(systems['sizes'],systems['load_pdb_mean'],yerr=systems['load_pdb_std'])\n",
    "#plt.savefig(\"/nfs/homes/ikenney/report/figs/loading/\"+inputs.replace(\" \",\"_\").lower())\n",
    "#plt.savefig(\"/nfs/homes/ikenney/report/figs/loading/\"+inputs.replace(\" \",\"_\").lower()+\".pdf\")"
   ]
  },
  {
   "cell_type": "markdown",
   "metadata": {},
   "source": [
    "## GRO and XTC"
   ]
  },
  {
   "cell_type": "code",
   "execution_count": null,
   "metadata": {
    "collapsed": false
   },
   "outputs": [],
   "source": [
    "def performanceload(a):\n",
    "    res = a[3]\n",
    "    def load():\n",
    "        start = time.time()\n",
    "        u = mda.Universe(a[0],a[1])\n",
    "        return time.time() - start\n",
    "    return [load() for _ in range(res)]"
   ]
  },
  {
   "cell_type": "code",
   "execution_count": null,
   "metadata": {
    "collapsed": false
   },
   "outputs": [],
   "source": [
    "N = 40\n",
    "p = Pool(len(values))\n",
    "processlist = list([systems['gros'][x],systems['traj'][x],systems['sizes'][x],N] for x in range(len(systems)))\n",
    "dataload = p.map(performanceload,processlist)    \n",
    "systems['load_gro_xtc'] = dataload\n",
    "p.close()\n",
    "systems['load_gro_xtc_mean'] = list(np.mean(r) for r in systems['load_gro_xtc'])\n",
    "systems['load_gro_xtc_std'] = list(np.std(r) for r in systems['load_gro_xtc'])\n",
    "systems.to_pickle(\"performance_combined.df\")"
   ]
  },
  {
   "cell_type": "code",
   "execution_count": null,
   "metadata": {
    "collapsed": false
   },
   "outputs": [],
   "source": [
    "inputs = \"GRO and XTC\"\n",
    "#plt.figure(figsize=(8,4))\n",
    "plt.title(\"Load Time Performance on {0} loading {1} ({2} runs)\".format(hostname,inputs,N))\n",
    "plt.xlabel(\"System Size (atoms)\")\n",
    "plt.ylabel(\"Load time (s)\")\n",
    "D = plt.errorbar(systems['sizes'],systems['load_gro_xtc_mean'],yerr=systems['load_gro_xtc_std'])\n",
    "#plt.savefig(\"/nfs/homes/ikenney/report/figs/loading/\"+inputs.replace(\" \",\"_\").lower())\n",
    "#plt.savefig(\"/nfs/homes/ikenney/report/figs/loading/\"+inputs.replace(\" \",\"_\").lower()+\".pdf\")"
   ]
  },
  {
   "cell_type": "markdown",
   "metadata": {},
   "source": [
    "### PDB and XTC"
   ]
  },
  {
   "cell_type": "code",
   "execution_count": null,
   "metadata": {
    "collapsed": false
   },
   "outputs": [],
   "source": [
    "def performanceload(a):\n",
    "    res = a[3]\n",
    "    def load():\n",
    "        start = time.time()\n",
    "        u = mda.Universe(a[0],a[1])\n",
    "        return time.time() - start\n",
    "    return [load() for _ in range(res)]"
   ]
  },
  {
   "cell_type": "code",
   "execution_count": null,
   "metadata": {
    "collapsed": true
   },
   "outputs": [],
   "source": [
    "N = 40\n",
    "p = Pool(len(values))\n",
    "processlist = list([systems['gros'][x],systems['traj'][x],systems['sizes'][x],N] for x in range(len(systems)))\n",
    "dataload = p.map(performanceload,processlist)    \n",
    "systems['load_pdb_xtc'] = dataload\n",
    "p.close()\n",
    "systems['load_pdb_xtc_mean'] = list(np.mean(r) for r in systems['load_pdb_xtc'])\n",
    "systems['load_pdb_xtc_std'] = list(np.std(r) for r in systems['load_pdb_xtc'])\n",
    "systems.to_pickle(\"performance_combined.df\")"
   ]
  },
  {
   "cell_type": "code",
   "execution_count": null,
   "metadata": {
    "collapsed": false
   },
   "outputs": [],
   "source": [
    "inputs = \"PDB and XTC\"\n",
    "#plt.figure(figsize=(8,4))\n",
    "plt.title(\"Load Time Performance on {0} loading {1} ({2} runs)\".format(hostname,inputs,N))\n",
    "plt.xlabel(\"System Size (atoms)\")\n",
    "plt.ylabel(\"Load time (s)\")\n",
    "E = plt.errorbar(systems['sizes'],systems['load_pdb_xtc_mean'],yerr=systems['load_pdb_xtc_std'])\n",
    "#plt.savefig(\"/nfs/homes/ikenney/report/figs/loading/\"+inputs.replace(\" \",\"_\").lower())\n",
    "#plt.savefig(\"/nfs/homes/ikenney/report/figs/loading/\"+inputs.replace(\" \",\"_\").lower()+\".pdf\")"
   ]
  },
  {
   "cell_type": "code",
   "execution_count": null,
   "metadata": {
    "collapsed": false
   },
   "outputs": [],
   "source": [
    "plt.title(\"Load Time Performance on spuddafett (40 runs)\")\n",
    "plt.ylabel(\"Load Time (s)\")\n",
    "plt.xlabel(\"System Size (atoms)\")\n",
    "plots = [plt.errorbar(systems['sizes'],systems['load_tpr_xtc_mean'],yerr=systems['load_tpr_xtc_std']),plt.errorbar(systems['sizes'],systems['load_gro_mean'],yerr=systems['load_gro_std']),plt.errorbar(systems['sizes'],systems['load_pdb_mean'],yerr=systems['load_pdb_std']),plt.errorbar(systems['sizes'],systems['load_gro_xtc_mean'],yerr=systems['load_gro_xtc_std']),plt.errorbar(systems['sizes'],systems['load_pdb_xtc_mean'],yerr=systems['load_pdb_xtc_std'])]\n",
    "plt.legend(plots,[\"TPR,XTC\",\"GRO\",\"PDB\",\"GRO,XTC\",\"PDB,XTC\"],loc='best')\n",
    "plt.savefig(\"/nfs/homes/ikenney/report/figs/loading/combined_load\")\n",
    "plt.savefig(\"/nfs/homes/ikenney/report/figs/loading/combined_load.pdf\")"
   ]
  },
  {
   "cell_type": "code",
   "execution_count": null,
   "metadata": {
    "collapsed": false
   },
   "outputs": [],
   "source": [
    "testing"
   ]
  },
  {
   "cell_type": "code",
   "execution_count": null,
   "metadata": {
    "collapsed": false
   },
   "outputs": [],
   "source": [
    "systems_dir"
   ]
  },
  {
   "cell_type": "code",
   "execution_count": null,
   "metadata": {
    "collapsed": true
   },
   "outputs": [],
   "source": []
  }
 ],
 "metadata": {
  "kernelspec": {
   "display_name": "Python 2",
   "language": "python",
   "name": "python2"
  },
  "language_info": {
   "codemirror_mode": {
    "name": "ipython",
    "version": 2
   },
   "file_extension": ".py",
   "mimetype": "text/x-python",
   "name": "python",
   "nbconvert_exporter": "python",
   "pygments_lexer": "ipython2",
   "version": "2.7.6"
  }
 },
 "nbformat": 4,
 "nbformat_minor": 0
}
