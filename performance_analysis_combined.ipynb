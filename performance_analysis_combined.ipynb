{
 "cells": [
  {
   "cell_type": "code",
   "execution_count": 1,
   "metadata": {
    "collapsed": false
   },
   "outputs": [
    {
     "name": "stdout",
     "output_type": "stream",
     "text": [
      "MDA version: 0.11.0\n"
     ]
    }
   ],
   "source": [
    "import MDAnalysis as mda\n",
    "import time\n",
    "import os\n",
    "import numpy\n",
    "from multiprocessing import Pool\n",
    "import matplotlib.pyplot as plt\n",
    "import numpy as np\n",
    "import pandas as pd\n",
    "import glob\n",
    "import vesicle_analysis_methods as vam\n",
    "%matplotlib inline\n",
    "print(\"MDA version: \" + mda.__version__)"
   ]
  },
  {
   "cell_type": "markdown",
   "metadata": {},
   "source": [
    "# Spuddafett Performance"
   ]
  },
  {
   "cell_type": "code",
   "execution_count": 2,
   "metadata": {
    "collapsed": false
   },
   "outputs": [
    {
     "name": "stdout",
     "output_type": "stream",
     "text": [
      "Pickle loaded\n"
     ]
    }
   ],
   "source": [
    "hostname = \"spuddafett\"\n",
    "fig_dir = \"/nfs/homes/ikenney/Projects/vesicles/scripts/analysis/figs/\"\n",
    "data_dir = \"/nfs/homes/ikenney/Projects/vesicles/scripts/analysis/data/\"\n",
    "systems_dir = \"/nfs/homes/ikenney/Projects/vesicles/scripts/analysis/systems/\"\n",
    "\n",
    "values = [y.split('/')[-1] for y in glob.glob(\"systems/*\")]\n",
    "\n",
    "def fig_save(inputs):\n",
    "    paths = [fig_dir+inputs.replace(\" \",\"_\").lower()+\".png\",fig_dir+inputs.replace(\" \",\"_\").lower()+\".pdf\"]\n",
    "    for p in paths:\n",
    "        plt.savefig(p)\n",
    "        \n",
    "if os.path.exists(data_dir+\"performance_combined.df\"):\n",
    "    systems = pd.read_pickle(data_dir+\"performance_combined.df\")\n",
    "    print(\"Pickle loaded\")\n",
    "else:\n",
    "    systems = pd.DataFrame(index=values+['1_5M','3M'])\n",
    "    location = '/nfs/homes/ikenney/Projects/vesicles/vesicle_library/lib/{}/'.format('rad_gpu')\n",
    "    pd.DataFrame()\n",
    "    tops = list((location+'%s/nvt/nvt.tpr') % v for v in values)\n",
    "    traj = list((location+'%s/nvt/analysis.xtc') % v for v in values)\n",
    "    gros = list((location+'%s/emin/emin.gro') % v for v in values)\n",
    "    pdbs = list((location+'%s/emin/emin.pdb') % v for v in values)\n",
    "    systems['tops'] = list((location+'%s/nvt/nvt.tpr') % v for v in systems.index.tolist())\n",
    "    systems['traj'] = list((location+'%s/nvt/nvt.xtc') % v for v in systems.index.tolist())\n",
    "    systems['gros'] = list((location+'%s/emin/emin.gro') % v for v in systems.index.tolist())\n",
    "    systems['pdbs'] = list((location+'%s/emin/emin.pdb') % v for v in systems.index.tolist())\n",
    "    systems['sizes'] = list(mda.Universe((location+'%s/emin/emin.tpr') % v).atoms.n_atoms for v in systems.index.tolist())\n",
    "    print(\"Pickle not loaded. Creating new dataframe\")\n",
    "    systems.to_pickle(\"performance_combined.df\")"
   ]
  },
  {
   "cell_type": "code",
   "execution_count": 3,
   "metadata": {
    "collapsed": false,
    "scrolled": true
   },
   "outputs": [
    {
     "name": "stdout",
     "output_type": "stream",
     "text": [
      "'super' not found in data set. Build? (y/n)\n",
      "Build:\ty\n",
      "Added to build list.\n",
      "\n",
      "'cannon' not found in data set. Build? (y/n)\n",
      "Build:\tn\n",
      "Building system in: /nfs/homes/ikenney/Projects/vesicles/scripts/analysis/systems/super\n"
     ]
    },
    {
     "ename": "NotImplementedError",
     "evalue": "Your tpx version is 100, which this parser does not support, yet ",
     "output_type": "error",
     "traceback": [
      "\u001b[1;31m---------------------------------------------------------------------------\u001b[0m",
      "\u001b[1;31mNotImplementedError\u001b[0m                       Traceback (most recent call last)",
      "\u001b[1;32m<ipython-input-3-b4b9ddc3c307>\u001b[0m in \u001b[0;36m<module>\u001b[1;34m()\u001b[0m\n\u001b[1;32m----> 1\u001b[1;33m \u001b[0mtesting\u001b[0m \u001b[1;33m=\u001b[0m \u001b[0mvam\u001b[0m\u001b[1;33m.\u001b[0m\u001b[0mintegrity\u001b[0m\u001b[1;33m(\u001b[0m\u001b[0msystems\u001b[0m\u001b[1;33m,\u001b[0m\u001b[0mN\u001b[0m\u001b[1;33m=\u001b[0m\u001b[1;36m3\u001b[0m\u001b[1;33m)\u001b[0m\u001b[1;33m\u001b[0m\u001b[0m\n\u001b[0m",
      "\u001b[1;32m/nfs/homes/ikenney/Projects/vesicles/scripts/analysis/vesicle_analysis_methods.pyc\u001b[0m in \u001b[0;36mintegrity\u001b[1;34m(systems, N)\u001b[0m\n\u001b[0;32m     42\u001b[0m \u001b[1;33m\u001b[0m\u001b[0m\n\u001b[0;32m     43\u001b[0m     \u001b[1;32mfor\u001b[0m \u001b[0ms\u001b[0m \u001b[1;32min\u001b[0m \u001b[0mtobuild\u001b[0m\u001b[1;33m:\u001b[0m\u001b[1;33m\u001b[0m\u001b[0m\n\u001b[1;32m---> 44\u001b[1;33m         \u001b[0mnewsys\u001b[0m \u001b[1;33m=\u001b[0m \u001b[0mnewsys\u001b[0m\u001b[1;33m.\u001b[0m\u001b[0mappend\u001b[0m\u001b[1;33m(\u001b[0m\u001b[0m_build\u001b[0m\u001b[1;33m(\u001b[0m\u001b[0ms\u001b[0m\u001b[1;33m,\u001b[0m\u001b[0msystems\u001b[0m\u001b[1;33m,\u001b[0m\u001b[0mN\u001b[0m\u001b[1;33m=\u001b[0m\u001b[0mN\u001b[0m\u001b[1;33m)\u001b[0m\u001b[1;33m)\u001b[0m\u001b[1;33m\u001b[0m\u001b[0m\n\u001b[0m\u001b[0;32m     45\u001b[0m     \u001b[0mpd\u001b[0m\u001b[1;33m.\u001b[0m\u001b[0mto_pickle\u001b[0m\u001b[1;33m(\u001b[0m\u001b[1;34m\"backup.df\"\u001b[0m\u001b[1;33m)\u001b[0m\u001b[1;33m\u001b[0m\u001b[0m\n\u001b[0;32m     46\u001b[0m     \u001b[1;32mreturn\u001b[0m \u001b[0mnewsys\u001b[0m\u001b[1;33m.\u001b[0m\u001b[0msort\u001b[0m\u001b[1;33m(\u001b[0m\u001b[0mcolumns\u001b[0m\u001b[1;33m=\u001b[0m\u001b[1;33m[\u001b[0m\u001b[1;34m'sizes'\u001b[0m\u001b[1;33m]\u001b[0m\u001b[1;33m)\u001b[0m\u001b[1;33m\u001b[0m\u001b[0m\n",
      "\u001b[1;32m/nfs/homes/ikenney/Projects/vesicles/scripts/analysis/vesicle_analysis_methods.pyc\u001b[0m in \u001b[0;36m_build\u001b[1;34m(system_name, systems, N)\u001b[0m\n\u001b[0;32m    166\u001b[0m \u001b[1;33m\u001b[0m\u001b[0m\n\u001b[0;32m    167\u001b[0m     \u001b[1;32mif\u001b[0m \u001b[0mbuildrow\u001b[0m\u001b[1;33m[\u001b[0m\u001b[1;34m'tops'\u001b[0m\u001b[1;33m]\u001b[0m\u001b[1;33m.\u001b[0m\u001b[0mnotnull\u001b[0m\u001b[1;33m(\u001b[0m\u001b[1;33m)\u001b[0m\u001b[1;33m.\u001b[0m\u001b[0mloc\u001b[0m\u001b[1;33m[\u001b[0m\u001b[0msystem_name\u001b[0m\u001b[1;33m]\u001b[0m \u001b[1;32mand\u001b[0m \u001b[0mbuildrow\u001b[0m\u001b[1;33m[\u001b[0m\u001b[1;34m'traj'\u001b[0m\u001b[1;33m]\u001b[0m\u001b[1;33m.\u001b[0m\u001b[0mnotnull\u001b[0m\u001b[1;33m(\u001b[0m\u001b[1;33m)\u001b[0m\u001b[1;33m.\u001b[0m\u001b[0mloc\u001b[0m\u001b[1;33m[\u001b[0m\u001b[0msystem_name\u001b[0m\u001b[1;33m]\u001b[0m\u001b[1;33m:\u001b[0m\u001b[1;33m\u001b[0m\u001b[0m\n\u001b[1;32m--> 168\u001b[1;33m         \u001b[0mpopulate_tpr_xtc\u001b[0m\u001b[1;33m(\u001b[0m\u001b[0msystem_name\u001b[0m\u001b[1;33m,\u001b[0m\u001b[0mbuildrow\u001b[0m\u001b[1;33m,\u001b[0m\u001b[0mN\u001b[0m\u001b[1;33m=\u001b[0m\u001b[0mN\u001b[0m\u001b[1;33m)\u001b[0m\u001b[1;33m\u001b[0m\u001b[0m\n\u001b[0m\u001b[0;32m    169\u001b[0m \u001b[1;33m\u001b[0m\u001b[0m\n\u001b[0;32m    170\u001b[0m     \u001b[1;32mif\u001b[0m \u001b[0mbuildrow\u001b[0m\u001b[1;33m[\u001b[0m\u001b[1;34m'gros'\u001b[0m\u001b[1;33m]\u001b[0m\u001b[1;33m.\u001b[0m\u001b[0mnotnull\u001b[0m\u001b[1;33m(\u001b[0m\u001b[1;33m)\u001b[0m\u001b[1;33m.\u001b[0m\u001b[0mloc\u001b[0m\u001b[1;33m[\u001b[0m\u001b[0msystem_name\u001b[0m\u001b[1;33m]\u001b[0m \u001b[1;32mand\u001b[0m \u001b[0mbuildrow\u001b[0m\u001b[1;33m[\u001b[0m\u001b[1;34m'traj'\u001b[0m\u001b[1;33m]\u001b[0m\u001b[1;33m.\u001b[0m\u001b[0mnotnull\u001b[0m\u001b[1;33m(\u001b[0m\u001b[1;33m)\u001b[0m\u001b[1;33m.\u001b[0m\u001b[0mloc\u001b[0m\u001b[1;33m[\u001b[0m\u001b[0msystem_name\u001b[0m\u001b[1;33m]\u001b[0m\u001b[1;33m:\u001b[0m\u001b[1;33m\u001b[0m\u001b[0m\n",
      "\u001b[1;32m/nfs/homes/ikenney/Projects/vesicles/scripts/analysis/vesicle_analysis_methods.pyc\u001b[0m in \u001b[0;36mpopulate_tpr_xtc\u001b[1;34m(sysname, table, N)\u001b[0m\n\u001b[0;32m     56\u001b[0m \u001b[1;32mdef\u001b[0m \u001b[0mpopulate_tpr_xtc\u001b[0m\u001b[1;33m(\u001b[0m\u001b[0msysname\u001b[0m\u001b[1;33m,\u001b[0m\u001b[0mtable\u001b[0m\u001b[1;33m,\u001b[0m\u001b[0mN\u001b[0m\u001b[1;33m=\u001b[0m\u001b[1;36m40\u001b[0m\u001b[1;33m)\u001b[0m\u001b[1;33m:\u001b[0m \u001b[1;31m# Handle loading tpr and xtc\u001b[0m\u001b[1;33m\u001b[0m\u001b[0m\n\u001b[0;32m     57\u001b[0m     \u001b[0mcolumn\u001b[0m \u001b[1;33m=\u001b[0m \u001b[1;34m\"load_tpr_xtc\"\u001b[0m\u001b[1;33m\u001b[0m\u001b[0m\n\u001b[1;32m---> 58\u001b[1;33m     \u001b[0mtable\u001b[0m\u001b[1;33m[\u001b[0m\u001b[0mcolumn\u001b[0m\u001b[1;33m]\u001b[0m\u001b[1;33m.\u001b[0m\u001b[0mloc\u001b[0m\u001b[1;33m[\u001b[0m\u001b[0msysname\u001b[0m\u001b[1;33m]\u001b[0m \u001b[1;33m=\u001b[0m \u001b[0m_tpr_xtc_load\u001b[0m\u001b[1;33m(\u001b[0m\u001b[0msysname\u001b[0m\u001b[1;33m,\u001b[0m\u001b[0mtable\u001b[0m\u001b[1;33m,\u001b[0m\u001b[0mN\u001b[0m\u001b[1;33m)\u001b[0m\u001b[1;33m\u001b[0m\u001b[0m\n\u001b[0m\u001b[0;32m     59\u001b[0m     \u001b[0mtable\u001b[0m\u001b[1;33m[\u001b[0m\u001b[0mcolumn\u001b[0m\u001b[1;33m+\u001b[0m\u001b[1;34m'_mean'\u001b[0m\u001b[1;33m]\u001b[0m\u001b[1;33m.\u001b[0m\u001b[0mloc\u001b[0m\u001b[1;33m[\u001b[0m\u001b[0msysname\u001b[0m\u001b[1;33m]\u001b[0m \u001b[1;33m=\u001b[0m \u001b[0mnp\u001b[0m\u001b[1;33m.\u001b[0m\u001b[0mmean\u001b[0m\u001b[1;33m(\u001b[0m\u001b[0mtable\u001b[0m\u001b[1;33m[\u001b[0m\u001b[0mcolumn\u001b[0m\u001b[1;33m]\u001b[0m\u001b[1;33m.\u001b[0m\u001b[0mloc\u001b[0m\u001b[1;33m[\u001b[0m\u001b[0msysname\u001b[0m\u001b[1;33m]\u001b[0m\u001b[1;33m)\u001b[0m\u001b[1;33m\u001b[0m\u001b[0m\n\u001b[0;32m     60\u001b[0m     \u001b[0mtable\u001b[0m\u001b[1;33m[\u001b[0m\u001b[0mcolumn\u001b[0m\u001b[1;33m+\u001b[0m\u001b[1;34m'_std'\u001b[0m\u001b[1;33m]\u001b[0m\u001b[1;33m.\u001b[0m\u001b[0mloc\u001b[0m\u001b[1;33m[\u001b[0m\u001b[0msysname\u001b[0m\u001b[1;33m]\u001b[0m \u001b[1;33m=\u001b[0m \u001b[0mnp\u001b[0m\u001b[1;33m.\u001b[0m\u001b[0mstd\u001b[0m\u001b[1;33m(\u001b[0m\u001b[0mtable\u001b[0m\u001b[1;33m[\u001b[0m\u001b[0mcolumn\u001b[0m\u001b[1;33m]\u001b[0m\u001b[1;33m.\u001b[0m\u001b[0mloc\u001b[0m\u001b[1;33m[\u001b[0m\u001b[0msysname\u001b[0m\u001b[1;33m]\u001b[0m\u001b[1;33m)\u001b[0m\u001b[1;33m\u001b[0m\u001b[0m\n",
      "\u001b[1;32m/nfs/homes/ikenney/Projects/vesicles/scripts/analysis/vesicle_analysis_methods.pyc\u001b[0m in \u001b[0;36m_tpr_xtc_load\u001b[1;34m(sysname, table, N)\u001b[0m\n\u001b[0;32m    105\u001b[0m         \u001b[0mmda\u001b[0m\u001b[1;33m.\u001b[0m\u001b[0mUniverse\u001b[0m\u001b[1;33m(\u001b[0m\u001b[0mtable\u001b[0m\u001b[1;33m[\u001b[0m\u001b[1;34m'tops'\u001b[0m\u001b[1;33m]\u001b[0m\u001b[1;33m.\u001b[0m\u001b[0mloc\u001b[0m\u001b[1;33m[\u001b[0m\u001b[0msysname\u001b[0m\u001b[1;33m]\u001b[0m\u001b[1;33m,\u001b[0m\u001b[0mtable\u001b[0m\u001b[1;33m[\u001b[0m\u001b[1;34m'traj'\u001b[0m\u001b[1;33m]\u001b[0m\u001b[1;33m.\u001b[0m\u001b[0mloc\u001b[0m\u001b[1;33m[\u001b[0m\u001b[0msysname\u001b[0m\u001b[1;33m]\u001b[0m\u001b[1;33m)\u001b[0m\u001b[1;33m\u001b[0m\u001b[0m\n\u001b[0;32m    106\u001b[0m         \u001b[1;32mreturn\u001b[0m \u001b[0mtime\u001b[0m\u001b[1;33m.\u001b[0m\u001b[0mtime\u001b[0m\u001b[1;33m(\u001b[0m\u001b[1;33m)\u001b[0m \u001b[1;33m-\u001b[0m \u001b[0mstart\u001b[0m\u001b[1;33m\u001b[0m\u001b[0m\n\u001b[1;32m--> 107\u001b[1;33m     \u001b[1;32mreturn\u001b[0m \u001b[1;33m[\u001b[0m\u001b[0mload\u001b[0m\u001b[1;33m(\u001b[0m\u001b[1;33m)\u001b[0m \u001b[1;32mfor\u001b[0m \u001b[0m_\u001b[0m \u001b[1;32min\u001b[0m \u001b[0mrange\u001b[0m\u001b[1;33m(\u001b[0m\u001b[0mN\u001b[0m\u001b[1;33m)\u001b[0m\u001b[1;33m]\u001b[0m\u001b[1;33m\u001b[0m\u001b[0m\n\u001b[0m\u001b[0;32m    108\u001b[0m \u001b[1;33m\u001b[0m\u001b[0m\n\u001b[0;32m    109\u001b[0m \u001b[1;32mdef\u001b[0m \u001b[0m_gro_load\u001b[0m\u001b[1;33m(\u001b[0m\u001b[0msysname\u001b[0m\u001b[1;33m,\u001b[0m\u001b[0mtable\u001b[0m\u001b[1;33m,\u001b[0m\u001b[0mN\u001b[0m\u001b[1;33m=\u001b[0m\u001b[1;36m40\u001b[0m\u001b[1;33m)\u001b[0m\u001b[1;33m:\u001b[0m\u001b[1;33m\u001b[0m\u001b[0m\n",
      "\u001b[1;32m/nfs/homes/ikenney/Projects/vesicles/scripts/analysis/vesicle_analysis_methods.pyc\u001b[0m in \u001b[0;36mload\u001b[1;34m()\u001b[0m\n\u001b[0;32m    103\u001b[0m     \u001b[1;32mdef\u001b[0m \u001b[0mload\u001b[0m\u001b[1;33m(\u001b[0m\u001b[1;33m)\u001b[0m\u001b[1;33m:\u001b[0m\u001b[1;33m\u001b[0m\u001b[0m\n\u001b[0;32m    104\u001b[0m         \u001b[0mstart\u001b[0m \u001b[1;33m=\u001b[0m \u001b[0mtime\u001b[0m\u001b[1;33m.\u001b[0m\u001b[0mtime\u001b[0m\u001b[1;33m(\u001b[0m\u001b[1;33m)\u001b[0m\u001b[1;33m\u001b[0m\u001b[0m\n\u001b[1;32m--> 105\u001b[1;33m         \u001b[0mmda\u001b[0m\u001b[1;33m.\u001b[0m\u001b[0mUniverse\u001b[0m\u001b[1;33m(\u001b[0m\u001b[0mtable\u001b[0m\u001b[1;33m[\u001b[0m\u001b[1;34m'tops'\u001b[0m\u001b[1;33m]\u001b[0m\u001b[1;33m.\u001b[0m\u001b[0mloc\u001b[0m\u001b[1;33m[\u001b[0m\u001b[0msysname\u001b[0m\u001b[1;33m]\u001b[0m\u001b[1;33m,\u001b[0m\u001b[0mtable\u001b[0m\u001b[1;33m[\u001b[0m\u001b[1;34m'traj'\u001b[0m\u001b[1;33m]\u001b[0m\u001b[1;33m.\u001b[0m\u001b[0mloc\u001b[0m\u001b[1;33m[\u001b[0m\u001b[0msysname\u001b[0m\u001b[1;33m]\u001b[0m\u001b[1;33m)\u001b[0m\u001b[1;33m\u001b[0m\u001b[0m\n\u001b[0m\u001b[0;32m    106\u001b[0m         \u001b[1;32mreturn\u001b[0m \u001b[0mtime\u001b[0m\u001b[1;33m.\u001b[0m\u001b[0mtime\u001b[0m\u001b[1;33m(\u001b[0m\u001b[1;33m)\u001b[0m \u001b[1;33m-\u001b[0m \u001b[0mstart\u001b[0m\u001b[1;33m\u001b[0m\u001b[0m\n\u001b[0;32m    107\u001b[0m     \u001b[1;32mreturn\u001b[0m \u001b[1;33m[\u001b[0m\u001b[0mload\u001b[0m\u001b[1;33m(\u001b[0m\u001b[1;33m)\u001b[0m \u001b[1;32mfor\u001b[0m \u001b[0m_\u001b[0m \u001b[1;32min\u001b[0m \u001b[0mrange\u001b[0m\u001b[1;33m(\u001b[0m\u001b[0mN\u001b[0m\u001b[1;33m)\u001b[0m\u001b[1;33m]\u001b[0m\u001b[1;33m\u001b[0m\u001b[0m\n",
      "\u001b[1;32m/usr/local/lib/python2.7/dist-packages/MDAnalysis/core/AtomGroup.pyc\u001b[0m in \u001b[0;36m__init__\u001b[1;34m(self, *args, **kwargs)\u001b[0m\n\u001b[0;32m   3695\u001b[0m         \u001b[1;32mtry\u001b[0m\u001b[1;33m:\u001b[0m\u001b[1;33m\u001b[0m\u001b[0m\n\u001b[0;32m   3696\u001b[0m             \u001b[1;32mwith\u001b[0m \u001b[0mparser\u001b[0m\u001b[1;33m(\u001b[0m\u001b[0mself\u001b[0m\u001b[1;33m.\u001b[0m\u001b[0mfilename\u001b[0m\u001b[1;33m,\u001b[0m \u001b[0muniverse\u001b[0m\u001b[1;33m=\u001b[0m\u001b[0mself\u001b[0m\u001b[1;33m)\u001b[0m \u001b[1;32mas\u001b[0m \u001b[0mp\u001b[0m\u001b[1;33m:\u001b[0m\u001b[1;33m\u001b[0m\u001b[0m\n\u001b[1;32m-> 3697\u001b[1;33m                 \u001b[0mself\u001b[0m\u001b[1;33m.\u001b[0m\u001b[0m_topology\u001b[0m \u001b[1;33m=\u001b[0m \u001b[0mp\u001b[0m\u001b[1;33m.\u001b[0m\u001b[0mparse\u001b[0m\u001b[1;33m(\u001b[0m\u001b[1;33m)\u001b[0m\u001b[1;33m\u001b[0m\u001b[0m\n\u001b[0m\u001b[0;32m   3698\u001b[0m         \u001b[1;32mexcept\u001b[0m \u001b[0mIOError\u001b[0m \u001b[1;32mas\u001b[0m \u001b[0merr\u001b[0m\u001b[1;33m:\u001b[0m\u001b[1;33m\u001b[0m\u001b[0m\n\u001b[0;32m   3699\u001b[0m             raise IOError(\"Failed to load from the topology file {0}\"\n",
      "\u001b[1;32m/usr/local/lib/python2.7/dist-packages/MDAnalysis/topology/TPRParser.pyc\u001b[0m in \u001b[0;36mparse\u001b[1;34m(self)\u001b[0m\n\u001b[0;32m    142\u001b[0m         \u001b[0mdata\u001b[0m \u001b[1;33m=\u001b[0m \u001b[0mxdrlib\u001b[0m\u001b[1;33m.\u001b[0m\u001b[0mUnpacker\u001b[0m\u001b[1;33m(\u001b[0m\u001b[0mtprf\u001b[0m\u001b[1;33m)\u001b[0m\u001b[1;33m\u001b[0m\u001b[0m\n\u001b[0;32m    143\u001b[0m         \u001b[1;32mtry\u001b[0m\u001b[1;33m:\u001b[0m\u001b[1;33m\u001b[0m\u001b[0m\n\u001b[1;32m--> 144\u001b[1;33m             \u001b[0mth\u001b[0m \u001b[1;33m=\u001b[0m \u001b[0mU\u001b[0m\u001b[1;33m.\u001b[0m\u001b[0mread_tpxheader\u001b[0m\u001b[1;33m(\u001b[0m\u001b[0mdata\u001b[0m\u001b[1;33m)\u001b[0m                    \u001b[1;31m# tpxheader\u001b[0m\u001b[1;33m\u001b[0m\u001b[0m\n\u001b[0m\u001b[0;32m    145\u001b[0m         \u001b[1;32mexcept\u001b[0m \u001b[0mEOFError\u001b[0m\u001b[1;33m:\u001b[0m\u001b[1;33m\u001b[0m\u001b[0m\n\u001b[0;32m    146\u001b[0m             \u001b[0mmsg\u001b[0m \u001b[1;33m=\u001b[0m \u001b[1;34m\"{0}: Invalid tpr file or cannot be recognized\"\u001b[0m\u001b[1;33m.\u001b[0m\u001b[0mformat\u001b[0m\u001b[1;33m(\u001b[0m\u001b[0mself\u001b[0m\u001b[1;33m.\u001b[0m\u001b[0mfilename\u001b[0m\u001b[1;33m)\u001b[0m\u001b[1;33m\u001b[0m\u001b[0m\n",
      "\u001b[1;32m/usr/local/lib/python2.7/dist-packages/MDAnalysis/topology/tpr/utils.pyc\u001b[0m in \u001b[0;36mread_tpxheader\u001b[1;34m(data)\u001b[0m\n\u001b[0;32m     94\u001b[0m     \u001b[0mdefine_unpack_real\u001b[0m\u001b[1;33m(\u001b[0m\u001b[0mprecision\u001b[0m\u001b[1;33m,\u001b[0m \u001b[0mdata\u001b[0m\u001b[1;33m)\u001b[0m\u001b[1;33m\u001b[0m\u001b[0m\n\u001b[0;32m     95\u001b[0m     \u001b[0mfver\u001b[0m \u001b[1;33m=\u001b[0m \u001b[0mdata\u001b[0m\u001b[1;33m.\u001b[0m\u001b[0munpack_int\u001b[0m\u001b[1;33m(\u001b[0m\u001b[1;33m)\u001b[0m  \u001b[1;31m# version of tpx file\u001b[0m\u001b[1;33m\u001b[0m\u001b[0m\n\u001b[1;32m---> 96\u001b[1;33m     \u001b[0mfver_err\u001b[0m\u001b[1;33m(\u001b[0m\u001b[0mfver\u001b[0m\u001b[1;33m)\u001b[0m\u001b[1;33m\u001b[0m\u001b[0m\n\u001b[0m\u001b[0;32m     97\u001b[0m \u001b[1;33m\u001b[0m\u001b[0m\n\u001b[0;32m     98\u001b[0m     \u001b[0mfgen\u001b[0m \u001b[1;33m=\u001b[0m \u001b[0mdata\u001b[0m\u001b[1;33m.\u001b[0m\u001b[0munpack_int\u001b[0m\u001b[1;33m(\u001b[0m\u001b[1;33m)\u001b[0m \u001b[1;32mif\u001b[0m \u001b[0mfver\u001b[0m \u001b[1;33m>=\u001b[0m \u001b[1;36m26\u001b[0m \u001b[1;32melse\u001b[0m \u001b[1;36m0\u001b[0m  \u001b[1;31m# generation of tpx file, e.g. 17\u001b[0m\u001b[1;33m\u001b[0m\u001b[0m\n",
      "\u001b[1;32m/usr/local/lib/python2.7/dist-packages/MDAnalysis/topology/tpr/utils.pyc\u001b[0m in \u001b[0;36mfver_err\u001b[1;34m(fver)\u001b[0m\n\u001b[0;32m     74\u001b[0m         raise NotImplementedError(\n\u001b[0;32m     75\u001b[0m             \"Your tpx version is {0}, which this parser does not support, yet \".format(\n\u001b[1;32m---> 76\u001b[1;33m                 fver))\n\u001b[0m\u001b[0;32m     77\u001b[0m \u001b[1;33m\u001b[0m\u001b[0m\n\u001b[0;32m     78\u001b[0m \u001b[1;33m\u001b[0m\u001b[0m\n",
      "\u001b[1;31mNotImplementedError\u001b[0m: Your tpx version is 100, which this parser does not support, yet "
     ]
    }
   ],
   "source": [
    "testing = vam.integrity(systems,N=3)"
   ]
  },
  {
   "cell_type": "code",
   "execution_count": null,
   "metadata": {
    "collapsed": true
   },
   "outputs": [],
   "source": [
    "testing = pd.read_pickle(\"backup.df\")"
   ]
  },
  {
   "cell_type": "code",
   "execution_count": null,
   "metadata": {
    "collapsed": false
   },
   "outputs": [],
   "source": [
    "testing = vam.integrity(systems.drop(systems.index[10]),N=3)"
   ]
  },
  {
   "cell_type": "code",
   "execution_count": null,
   "metadata": {
    "collapsed": false
   },
   "outputs": [],
   "source": [
    "testing"
   ]
  },
  {
   "cell_type": "markdown",
   "metadata": {},
   "source": [
    "## Radius of Gyration"
   ]
  },
  {
   "cell_type": "code",
   "execution_count": null,
   "metadata": {
    "collapsed": false
   },
   "outputs": [],
   "source": [
    "def performance(a):\n",
    "    u = mda.Universe(a[0],a[1])\n",
    "    vals = []\n",
    "    for frame in u.trajectory:\n",
    "        start = time.time()\n",
    "        u.atoms.radiusOfGyration()\n",
    "        vals.append(time.time()-start)\n",
    "    return vals"
   ]
  },
  {
   "cell_type": "markdown",
   "metadata": {},
   "source": [
    "Record times to perform radius of gyration calculations on each data set"
   ]
  },
  {
   "cell_type": "code",
   "execution_count": null,
   "metadata": {
    "collapsed": true
   },
   "outputs": [],
   "source": [
    "p = Pool(len(values))\n",
    "processlist = list([systems['tops'][x],systems['traj'][x],systems['sizes'][x]] for x in range(len(systems)))\n",
    "data = p.map(performance,processlist)\n",
    "systems['rgyr'] = data\n",
    "p.close()\n",
    "timedata = np.array([[np.mean(x),np.std(x)] for x in data])\n",
    "systems['rgyr_mean'] = list(np.mean(r) for r in systems['rgyr'])\n",
    "systems['rgyr_std'] = list(np.std(r) for r in systems['rgyr'])\n",
    "systems.to_pickle(\"performance_combined.df\")"
   ]
  },
  {
   "cell_type": "code",
   "execution_count": null,
   "metadata": {
    "collapsed": false
   },
   "outputs": [],
   "source": [
    "#plt.figure(figsize=(8,4))\n",
    "plt.title(\"Radius of Gyration Performance on {}\".format(hostname))\n",
    "plt.xlabel(\"System Size (atoms)\")\n",
    "plt.ylabel(\"Calculation time (s)\")\n",
    "plt.errorbar(systems['sizes'],systems['rgyr_mean'],yerr=systems['rgyr_std'])\n",
    "#plt.savefig(\"/nfs/homes/ikenney/report/figs/geometric/calc_time_vs_system.png\")\n",
    "#plt.savefig(\"/nfs/homes/ikenney/report/figs/geometric/calc_time_vs_system.pdf\")"
   ]
  },
  {
   "cell_type": "markdown",
   "metadata": {},
   "source": [
    "## Load Times"
   ]
  },
  {
   "cell_type": "markdown",
   "metadata": {},
   "source": [
    "Record times for loading universes with different schemes"
   ]
  },
  {
   "cell_type": "markdown",
   "metadata": {},
   "source": [
    "### TPR and XTC"
   ]
  },
  {
   "cell_type": "code",
   "execution_count": null,
   "metadata": {
    "collapsed": false
   },
   "outputs": [],
   "source": [
    "N = 40\n",
    "def performanceload(a):\n",
    "    res = a[3]\n",
    "    def load():\n",
    "        start = time.time()\n",
    "        u = mda.Universe(a[0],a[1])\n",
    "        return time.time() - start\n",
    "    return [load() for _ in range(res)]"
   ]
  },
  {
   "cell_type": "code",
   "execution_count": null,
   "metadata": {
    "collapsed": false
   },
   "outputs": [],
   "source": [
    "N = 40\n",
    "p = Pool(len(values))\n",
    "processlist = list([systems['tops'][x],systems['traj'][x],systems['sizes'],N] for x in range(len(systems.index.tolist())))\n",
    "dataload = p.map(performanceload,processlist)\n",
    "systems['load_tpr_xtc'] = dataload\n",
    "p.close()\n",
    "systems['load_tpr_xtc_mean'] = list(np.mean(r) for r in systems['load_tpr_xtc'])\n",
    "systems['load_tpr_xtc_std'] = list(np.std(r) for r in systems['load_tpr_xtc'])\n",
    "systems.to_pickle(\"performance_combined.df\")"
   ]
  },
  {
   "cell_type": "code",
   "execution_count": null,
   "metadata": {
    "collapsed": true
   },
   "outputs": [],
   "source": [
    "systems.to_pickle(\"performance_combined.df\")"
   ]
  },
  {
   "cell_type": "code",
   "execution_count": null,
   "metadata": {
    "collapsed": true
   },
   "outputs": [],
   "source": [
    "systems['load_tpr_xtc_median'] = list(np.median(r) for r in systems['load_tpr_xtc'])"
   ]
  },
  {
   "cell_type": "code",
   "execution_count": null,
   "metadata": {
    "collapsed": false
   },
   "outputs": [],
   "source": [
    "N = 40\n",
    "inputs = \"TPR and XTC\"\n",
    "#plt.figure(figsize=(8,4))\n",
    "plt.title(\"Load Time Performance on {0} loading {1} ({2} runs)\".format(hostname,inputs,N))\n",
    "plt.xlabel(\"System Size (atoms)\")\n",
    "plt.ylabel(\"Load time (s)\")\n",
    "A = plt.errorbar(systems['sizes'],systems['load_tpr_xtc_mean'],yerr=systems['load_tpr_xtc_std'])\n",
    "fig_save(inputs)"
   ]
  },
  {
   "cell_type": "markdown",
   "metadata": {},
   "source": [
    "### GRO only"
   ]
  },
  {
   "cell_type": "code",
   "execution_count": null,
   "metadata": {
    "collapsed": false
   },
   "outputs": [],
   "source": [
    "N = 40\n",
    "def performanceload(a):\n",
    "    res = a[2]\n",
    "    def load():\n",
    "        start = time.time()\n",
    "        u = mda.Universe(a[0])\n",
    "        return time.time() - start\n",
    "    return [load() for _ in range(res)]"
   ]
  },
  {
   "cell_type": "code",
   "execution_count": null,
   "metadata": {
    "collapsed": true
   },
   "outputs": [],
   "source": [
    "p = Pool(len(values))\n",
    "processlist = list([systems['gros'][x],systems['sizes'][x],N] for x in range(len(systems)))\n",
    "dataload = p.map(performanceload,processlist) \n",
    "systems['load_gro'] = dataload\n",
    "p.close()\n",
    "systems['load_gro_mean'] = list(np.mean(r) for r in systems['load_gro'])\n",
    "systems['load_gro_std'] = list(np.std(r) for r in systems['load_gro'])\n",
    "systems.to_pickle(\"performance_combined.df\")"
   ]
  },
  {
   "cell_type": "code",
   "execution_count": null,
   "metadata": {
    "collapsed": false
   },
   "outputs": [],
   "source": [
    "inputs = \"GRO\"\n",
    "#plt.figure(figsize=(8,4))\n",
    "plt.title(\"Load Time Performance on {0} loading {1} ({2} runs)\".format(hostname,inputs,N))\n",
    "plt.xlabel(\"System Size (atoms)\")\n",
    "plt.ylabel(\"Load time (s)\")\n",
    "B = plt.errorbar(systems['sizes'],systems['load_gro_mean'],yerr=systems['load_gro_std'])\n",
    "#plt.savefig(\"/nfs/homes/ikenney/report/figs/loading/\"+inputs.replace(\" \",\"_\").lower())\n",
    "#plt.savefig(\"/nfs/homes/ikenney/report/figs/loading/\"+inputs.replace(\" \",\"_\").lower()+\".pdf\")"
   ]
  },
  {
   "cell_type": "markdown",
   "metadata": {},
   "source": [
    "## PDB only"
   ]
  },
  {
   "cell_type": "code",
   "execution_count": null,
   "metadata": {
    "collapsed": false
   },
   "outputs": [],
   "source": [
    "N = 40\n",
    "def performanceload(a):\n",
    "    res = a[2]\n",
    "    def load():\n",
    "        start = time.time()\n",
    "        u = mda.Universe(a[0])\n",
    "        return time.time() - start\n",
    "    return [load() for _ in range(res)]"
   ]
  },
  {
   "cell_type": "code",
   "execution_count": null,
   "metadata": {
    "collapsed": false
   },
   "outputs": [],
   "source": [
    "p = Pool(len(values))\n",
    "processlist = list([systems['pdbs'][x],systems['sizes'][x],N] for x in range(len(systems)))\n",
    "dataload = p.map(performanceload,processlist)   \n",
    "systems[\"load_pdb\"] = dataload\n",
    "p.close()\n",
    "systems['load_pdb_mean'] = list(np.mean(r) for r in systems['load_pdb'])\n",
    "systems['load_pdb_std'] = list(np.std(r) for r in systems['load_pdb'])\n",
    "systems.to_pickle(\"performance_combined.df\")"
   ]
  },
  {
   "cell_type": "code",
   "execution_count": null,
   "metadata": {
    "collapsed": false
   },
   "outputs": [],
   "source": [
    "inputs = \"PDB\"\n",
    "#plt.figure(figsize=(8,4))\n",
    "plt.title(\"Load Time Performance on {0} loading {1} ({2} runs)\".format(hostname,inputs,N))\n",
    "plt.xlabel(\"System Size (atoms)\")\n",
    "plt.ylabel(\"Load time (s)\")\n",
    "C = plt.errorbar(systems['sizes'],systems['load_pdb_mean'],yerr=systems['load_pdb_std'])\n",
    "#plt.savefig(\"/nfs/homes/ikenney/report/figs/loading/\"+inputs.replace(\" \",\"_\").lower())\n",
    "#plt.savefig(\"/nfs/homes/ikenney/report/figs/loading/\"+inputs.replace(\" \",\"_\").lower()+\".pdf\")"
   ]
  },
  {
   "cell_type": "markdown",
   "metadata": {},
   "source": [
    "## GRO and XTC"
   ]
  },
  {
   "cell_type": "code",
   "execution_count": null,
   "metadata": {
    "collapsed": false
   },
   "outputs": [],
   "source": [
    "def performanceload(a):\n",
    "    res = a[3]\n",
    "    def load():\n",
    "        start = time.time()\n",
    "        u = mda.Universe(a[0],a[1])\n",
    "        return time.time() - start\n",
    "    return [load() for _ in range(res)]"
   ]
  },
  {
   "cell_type": "code",
   "execution_count": null,
   "metadata": {
    "collapsed": false
   },
   "outputs": [],
   "source": [
    "N = 40\n",
    "p = Pool(len(values))\n",
    "processlist = list([systems['gros'][x],systems['traj'][x],systems['sizes'][x],N] for x in range(len(systems)))\n",
    "dataload = p.map(performanceload,processlist)    \n",
    "systems['load_gro_xtc'] = dataload\n",
    "p.close()\n",
    "systems['load_gro_xtc_mean'] = list(np.mean(r) for r in systems['load_gro_xtc'])\n",
    "systems['load_gro_xtc_std'] = list(np.std(r) for r in systems['load_gro_xtc'])\n",
    "systems.to_pickle(\"performance_combined.df\")"
   ]
  },
  {
   "cell_type": "code",
   "execution_count": null,
   "metadata": {
    "collapsed": false
   },
   "outputs": [],
   "source": [
    "inputs = \"GRO and XTC\"\n",
    "#plt.figure(figsize=(8,4))\n",
    "plt.title(\"Load Time Performance on {0} loading {1} ({2} runs)\".format(hostname,inputs,N))\n",
    "plt.xlabel(\"System Size (atoms)\")\n",
    "plt.ylabel(\"Load time (s)\")\n",
    "D = plt.errorbar(systems['sizes'],systems['load_gro_xtc_mean'],yerr=systems['load_gro_xtc_std'])\n",
    "#plt.savefig(\"/nfs/homes/ikenney/report/figs/loading/\"+inputs.replace(\" \",\"_\").lower())\n",
    "#plt.savefig(\"/nfs/homes/ikenney/report/figs/loading/\"+inputs.replace(\" \",\"_\").lower()+\".pdf\")"
   ]
  },
  {
   "cell_type": "markdown",
   "metadata": {},
   "source": [
    "### PDB and XTC"
   ]
  },
  {
   "cell_type": "code",
   "execution_count": null,
   "metadata": {
    "collapsed": false
   },
   "outputs": [],
   "source": [
    "def performanceload(a):\n",
    "    res = a[3]\n",
    "    def load():\n",
    "        start = time.time()\n",
    "        u = mda.Universe(a[0],a[1])\n",
    "        return time.time() - start\n",
    "    return [load() for _ in range(res)]"
   ]
  },
  {
   "cell_type": "code",
   "execution_count": null,
   "metadata": {
    "collapsed": true
   },
   "outputs": [],
   "source": [
    "N = 40\n",
    "p = Pool(len(values))\n",
    "processlist = list([systems['gros'][x],systems['traj'][x],systems['sizes'][x],N] for x in range(len(systems)))\n",
    "dataload = p.map(performanceload,processlist)    \n",
    "systems['load_pdb_xtc'] = dataload\n",
    "p.close()\n",
    "systems['load_pdb_xtc_mean'] = list(np.mean(r) for r in systems['load_pdb_xtc'])\n",
    "systems['load_pdb_xtc_std'] = list(np.std(r) for r in systems['load_pdb_xtc'])\n",
    "systems.to_pickle(\"performance_combined.df\")"
   ]
  },
  {
   "cell_type": "code",
   "execution_count": null,
   "metadata": {
    "collapsed": false
   },
   "outputs": [],
   "source": [
    "inputs = \"PDB and XTC\"\n",
    "#plt.figure(figsize=(8,4))\n",
    "plt.title(\"Load Time Performance on {0} loading {1} ({2} runs)\".format(hostname,inputs,N))\n",
    "plt.xlabel(\"System Size (atoms)\")\n",
    "plt.ylabel(\"Load time (s)\")\n",
    "E = plt.errorbar(systems['sizes'],systems['load_pdb_xtc_mean'],yerr=systems['load_pdb_xtc_std'])\n",
    "#plt.savefig(\"/nfs/homes/ikenney/report/figs/loading/\"+inputs.replace(\" \",\"_\").lower())\n",
    "#plt.savefig(\"/nfs/homes/ikenney/report/figs/loading/\"+inputs.replace(\" \",\"_\").lower()+\".pdf\")"
   ]
  },
  {
   "cell_type": "code",
   "execution_count": null,
   "metadata": {
    "collapsed": false
   },
   "outputs": [],
   "source": [
    "plt.title(\"Load Time Performance on spuddafett (40 runs)\")\n",
    "plt.ylabel(\"Load Time (s)\")\n",
    "plt.xlabel(\"System Size (atoms)\")\n",
    "plots = [plt.errorbar(systems['sizes'],systems['load_tpr_xtc_mean'],yerr=systems['load_tpr_xtc_std']),plt.errorbar(systems['sizes'],systems['load_gro_mean'],yerr=systems['load_gro_std']),plt.errorbar(systems['sizes'],systems['load_pdb_mean'],yerr=systems['load_pdb_std']),plt.errorbar(systems['sizes'],systems['load_gro_xtc_mean'],yerr=systems['load_gro_xtc_std']),plt.errorbar(systems['sizes'],systems['load_pdb_xtc_mean'],yerr=systems['load_pdb_xtc_std'])]\n",
    "plt.legend(plots,[\"TPR,XTC\",\"GRO\",\"PDB\",\"GRO,XTC\",\"PDB,XTC\"],loc='best')\n",
    "#plt.savefig(\"/nfs/homes/ikenney/report/figs/loading/combined_load\")\n",
    "#plt.savefig(\"/nfs/homes/ikenney/report/figs/loading/combined_load.pdf\")"
   ]
  },
  {
   "cell_type": "code",
   "execution_count": null,
   "metadata": {
    "collapsed": true
   },
   "outputs": [],
   "source": [
    "systems = testing"
   ]
  },
  {
   "cell_type": "code",
   "execution_count": null,
   "metadata": {
    "collapsed": false
   },
   "outputs": [],
   "source": [
    "systems.drop(systems.index[10])"
   ]
  },
  {
   "cell_type": "code",
   "execution_count": null,
   "metadata": {
    "collapsed": false
   },
   "outputs": [],
   "source": [
    "systems"
   ]
  },
  {
   "cell_type": "code",
   "execution_count": null,
   "metadata": {
    "collapsed": true
   },
   "outputs": [],
   "source": []
  }
 ],
 "metadata": {
  "kernelspec": {
   "display_name": "Python 2",
   "language": "python",
   "name": "python2"
  },
  "language_info": {
   "codemirror_mode": {
    "name": "ipython",
    "version": 2
   },
   "file_extension": ".py",
   "mimetype": "text/x-python",
   "name": "python",
   "nbconvert_exporter": "python",
   "pygments_lexer": "ipython2",
   "version": "2.7.6"
  }
 },
 "nbformat": 4,
 "nbformat_minor": 0
}
