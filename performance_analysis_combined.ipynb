{
 "cells": [
  {
   "cell_type": "code",
   "execution_count": null,
   "metadata": {
    "collapsed": false
   },
   "outputs": [],
   "source": [
    "import MDAnalysis as mda\n",
    "import time\n",
    "import os\n",
    "import numpy\n",
    "from multiprocessing import Pool\n",
    "import matplotlib.pyplot as plt\n",
    "import numpy as np\n",
    "import pandas as pd\n",
    "import glob\n",
    "import vesicle_analysis_methods as vam\n",
    "%matplotlib inline\n",
    "print(\"MDA version: \" + mda.__version__)"
   ]
  },
  {
   "cell_type": "markdown",
   "metadata": {},
   "source": [
    "# Spuddafett Performance"
   ]
  },
  {
   "cell_type": "code",
   "execution_count": null,
   "metadata": {
    "collapsed": false
   },
   "outputs": [],
   "source": [
    "hostname = \"spuddafett\"\n",
    "fig_dir = \"/nfs/homes/ikenney/Projects/vesicles/scripts/analysis/figs/\"\n",
    "data_dir = \"/nfs/homes/ikenney/Projects/vesicles/scripts/analysis/data/\"\n",
    "systems_dir = \"/nfs/homes/ikenney/Projects/vesicles/scripts/analysis/systems/\"\n",
    "\n",
    "values = [y.split('/')[-1] for y in glob.glob(\"systems/*\")]\n",
    "\n",
    "def fig_save(inputs):\n",
    "    paths = [fig_dir+inputs.replace(\" \",\"_\").lower()+\".png\",fig_dir+inputs.replace(\" \",\"_\").lower()+\".pdf\"]\n",
    "    for p in paths:\n",
    "        plt.savefig(p)\n",
    "        \n",
    "if os.path.exists(data_dir+\"performance_combined.df\"):\n",
    "    systems = pd.read_pickle(data_dir+\"performance_combined.df\")\n",
    "    print(\"Pickle loaded\")\n",
    "else:\n",
    "    systems = pd.DataFrame(index=values+['1_5M','3M'])\n",
    "    location = '/nfs/homes/ikenney/Projects/vesicles/vesicle_library/lib/{}/'.format('rad_gpu')\n",
    "    pd.DataFrame()\n",
    "    tops = list((location+'%s/nvt/nvt.tpr') % v for v in values)\n",
    "    traj = list((location+'%s/nvt/analysis.xtc') % v for v in values)\n",
    "    gros = list((location+'%s/emin/emin.gro') % v for v in values)\n",
    "    pdbs = list((location+'%s/emin/emin.pdb') % v for v in values)\n",
    "    systems['tops'] = list((location+'%s/nvt/nvt.tpr') % v for v in systems.index.tolist())\n",
    "    systems['traj'] = list((location+'%s/nvt/nvt.xtc') % v for v in systems.index.tolist())\n",
    "    systems['gros'] = list((location+'%s/emin/emin.gro') % v for v in systems.index.tolist())\n",
    "    systems['pdbs'] = list((location+'%s/emin/emin.pdb') % v for v in systems.index.tolist())\n",
    "    systems['sizes'] = list(mda.Universe((location+'%s/emin/emin.tpr') % v).atoms.n_atoms for v in systems.index.tolist())\n",
    "    print(\"Pickle not loaded. Creating new dataframe\")\n",
    "    systems.to_pickle(\"performance_combined.df\")"
   ]
  },
  {
   "cell_type": "code",
   "execution_count": null,
   "metadata": {
    "collapsed": false,
    "scrolled": true
   },
   "outputs": [],
   "source": [
    "testing = vam.integrity(pd.DataFrame(columns=systems.columns.tolist()),N=3)"
   ]
  },
  {
   "cell_type": "code",
   "execution_count": null,
   "metadata": {
    "collapsed": true
   },
   "outputs": [],
   "source": [
    "testing = pd.read_pickle(\"backup.df\")"
   ]
  },
  {
   "cell_type": "code",
   "execution_count": null,
   "metadata": {
    "collapsed": false
   },
   "outputs": [],
   "source": [
    "testing = vam.integrity(testing,N=3)"
   ]
  },
  {
   "cell_type": "code",
   "execution_count": null,
   "metadata": {
    "collapsed": false
   },
   "outputs": [],
   "source": [
    "testing"
   ]
  },
  {
   "cell_type": "markdown",
   "metadata": {},
   "source": [
    "## Radius of Gyration"
   ]
  },
  {
   "cell_type": "code",
   "execution_count": null,
   "metadata": {
    "collapsed": false
   },
   "outputs": [],
   "source": [
    "def performance(a):\n",
    "    u = mda.Universe(a[0],a[1])\n",
    "    vals = []\n",
    "    for frame in u.trajectory:\n",
    "        start = time.time()\n",
    "        u.atoms.radiusOfGyration()\n",
    "        vals.append(time.time()-start)\n",
    "    return vals"
   ]
  },
  {
   "cell_type": "markdown",
   "metadata": {},
   "source": [
    "Record times to perform radius of gyration calculations on each data set"
   ]
  },
  {
   "cell_type": "code",
   "execution_count": null,
   "metadata": {
    "collapsed": true
   },
   "outputs": [],
   "source": [
    "p = Pool(len(values))\n",
    "processlist = list([systems['tops'][x],systems['traj'][x],systems['sizes'][x]] for x in range(len(systems)))\n",
    "data = p.map(performance,processlist)\n",
    "systems['rgyr'] = data\n",
    "p.close()\n",
    "timedata = np.array([[np.mean(x),np.std(x)] for x in data])\n",
    "systems['rgyr_mean'] = list(np.mean(r) for r in systems['rgyr'])\n",
    "systems['rgyr_std'] = list(np.std(r) for r in systems['rgyr'])\n",
    "systems.to_pickle(\"performance_combined.df\")"
   ]
  },
  {
   "cell_type": "code",
   "execution_count": null,
   "metadata": {
    "collapsed": false
   },
   "outputs": [],
   "source": [
    "#plt.figure(figsize=(8,4))\n",
    "plt.title(\"Radius of Gyration Performance on {}\".format(hostname))\n",
    "plt.xlabel(\"System Size (atoms)\")\n",
    "plt.ylabel(\"Calculation time (s)\")\n",
    "plt.errorbar(systems['sizes'],systems['rgyr_mean'],yerr=systems['rgyr_std'])\n",
    "#plt.savefig(\"/nfs/homes/ikenney/report/figs/geometric/calc_time_vs_system.png\")\n",
    "#plt.savefig(\"/nfs/homes/ikenney/report/figs/geometric/calc_time_vs_system.pdf\")"
   ]
  },
  {
   "cell_type": "markdown",
   "metadata": {},
   "source": [
    "## Load Times"
   ]
  },
  {
   "cell_type": "markdown",
   "metadata": {},
   "source": [
    "Record times for loading universes with different schemes"
   ]
  },
  {
   "cell_type": "markdown",
   "metadata": {},
   "source": [
    "### TPR and XTC"
   ]
  },
  {
   "cell_type": "code",
   "execution_count": null,
   "metadata": {
    "collapsed": false
   },
   "outputs": [],
   "source": [
    "N = 40\n",
    "def performanceload(a):\n",
    "    res = a[3]\n",
    "    def load():\n",
    "        start = time.time()\n",
    "        u = mda.Universe(a[0],a[1])\n",
    "        return time.time() - start\n",
    "    return [load() for _ in range(res)]"
   ]
  },
  {
   "cell_type": "code",
   "execution_count": null,
   "metadata": {
    "collapsed": false
   },
   "outputs": [],
   "source": [
    "N = 40\n",
    "p = Pool(len(values))\n",
    "processlist = list([systems['tops'][x],systems['traj'][x],systems['sizes'],N] for x in range(len(systems.index.tolist())))\n",
    "dataload = p.map(performanceload,processlist)\n",
    "systems['load_tpr_xtc'] = dataload\n",
    "p.close()\n",
    "systems['load_tpr_xtc_mean'] = list(np.mean(r) for r in systems['load_tpr_xtc'])\n",
    "systems['load_tpr_xtc_std'] = list(np.std(r) for r in systems['load_tpr_xtc'])\n",
    "systems.to_pickle(\"performance_combined.df\")"
   ]
  },
  {
   "cell_type": "code",
   "execution_count": null,
   "metadata": {
    "collapsed": true
   },
   "outputs": [],
   "source": [
    "systems.to_pickle(\"performance_combined.df\")"
   ]
  },
  {
   "cell_type": "code",
   "execution_count": null,
   "metadata": {
    "collapsed": true
   },
   "outputs": [],
   "source": [
    "systems['load_tpr_xtc_median'] = list(np.median(r) for r in systems['load_tpr_xtc'])"
   ]
  },
  {
   "cell_type": "code",
   "execution_count": null,
   "metadata": {
    "collapsed": false
   },
   "outputs": [],
   "source": [
    "N = 40\n",
    "inputs = \"TPR and XTC\"\n",
    "#plt.figure(figsize=(8,4))\n",
    "plt.title(\"Load Time Performance on {0} loading {1} ({2} runs)\".format(hostname,inputs,N))\n",
    "plt.xlabel(\"System Size (atoms)\")\n",
    "plt.ylabel(\"Load time (s)\")\n",
    "A = plt.errorbar(systems['sizes'],systems['load_tpr_xtc_mean'],yerr=systems['load_tpr_xtc_std'])\n",
    "fig_save(inputs)"
   ]
  },
  {
   "cell_type": "markdown",
   "metadata": {},
   "source": [
    "### GRO only"
   ]
  },
  {
   "cell_type": "code",
   "execution_count": null,
   "metadata": {
    "collapsed": false
   },
   "outputs": [],
   "source": [
    "N = 40\n",
    "def performanceload(a):\n",
    "    res = a[2]\n",
    "    def load():\n",
    "        start = time.time()\n",
    "        u = mda.Universe(a[0])\n",
    "        return time.time() - start\n",
    "    return [load() for _ in range(res)]"
   ]
  },
  {
   "cell_type": "code",
   "execution_count": null,
   "metadata": {
    "collapsed": true
   },
   "outputs": [],
   "source": [
    "p = Pool(len(values))\n",
    "processlist = list([systems['gros'][x],systems['sizes'][x],N] for x in range(len(systems)))\n",
    "dataload = p.map(performanceload,processlist) \n",
    "systems['load_gro'] = dataload\n",
    "p.close()\n",
    "systems['load_gro_mean'] = list(np.mean(r) for r in systems['load_gro'])\n",
    "systems['load_gro_std'] = list(np.std(r) for r in systems['load_gro'])\n",
    "systems.to_pickle(\"performance_combined.df\")"
   ]
  },
  {
   "cell_type": "code",
   "execution_count": null,
   "metadata": {
    "collapsed": false
   },
   "outputs": [],
   "source": [
    "inputs = \"GRO\"\n",
    "#plt.figure(figsize=(8,4))\n",
    "plt.title(\"Load Time Performance on {0} loading {1} ({2} runs)\".format(hostname,inputs,N))\n",
    "plt.xlabel(\"System Size (atoms)\")\n",
    "plt.ylabel(\"Load time (s)\")\n",
    "B = plt.errorbar(systems['sizes'],systems['load_gro_mean'],yerr=systems['load_gro_std'])\n",
    "#plt.savefig(\"/nfs/homes/ikenney/report/figs/loading/\"+inputs.replace(\" \",\"_\").lower())\n",
    "#plt.savefig(\"/nfs/homes/ikenney/report/figs/loading/\"+inputs.replace(\" \",\"_\").lower()+\".pdf\")"
   ]
  },
  {
   "cell_type": "markdown",
   "metadata": {},
   "source": [
    "## PDB only"
   ]
  },
  {
   "cell_type": "code",
   "execution_count": null,
   "metadata": {
    "collapsed": false
   },
   "outputs": [],
   "source": [
    "N = 40\n",
    "def performanceload(a):\n",
    "    res = a[2]\n",
    "    def load():\n",
    "        start = time.time()\n",
    "        u = mda.Universe(a[0])\n",
    "        return time.time() - start\n",
    "    return [load() for _ in range(res)]"
   ]
  },
  {
   "cell_type": "code",
   "execution_count": null,
   "metadata": {
    "collapsed": false
   },
   "outputs": [],
   "source": [
    "p = Pool(len(values))\n",
    "processlist = list([systems['pdbs'][x],systems['sizes'][x],N] for x in range(len(systems)))\n",
    "dataload = p.map(performanceload,processlist)   \n",
    "systems[\"load_pdb\"] = dataload\n",
    "p.close()\n",
    "systems['load_pdb_mean'] = list(np.mean(r) for r in systems['load_pdb'])\n",
    "systems['load_pdb_std'] = list(np.std(r) for r in systems['load_pdb'])\n",
    "systems.to_pickle(\"performance_combined.df\")"
   ]
  },
  {
   "cell_type": "code",
   "execution_count": null,
   "metadata": {
    "collapsed": false
   },
   "outputs": [],
   "source": [
    "inputs = \"PDB\"\n",
    "#plt.figure(figsize=(8,4))\n",
    "plt.title(\"Load Time Performance on {0} loading {1} ({2} runs)\".format(hostname,inputs,N))\n",
    "plt.xlabel(\"System Size (atoms)\")\n",
    "plt.ylabel(\"Load time (s)\")\n",
    "C = plt.errorbar(systems['sizes'],systems['load_pdb_mean'],yerr=systems['load_pdb_std'])\n",
    "#plt.savefig(\"/nfs/homes/ikenney/report/figs/loading/\"+inputs.replace(\" \",\"_\").lower())\n",
    "#plt.savefig(\"/nfs/homes/ikenney/report/figs/loading/\"+inputs.replace(\" \",\"_\").lower()+\".pdf\")"
   ]
  },
  {
   "cell_type": "markdown",
   "metadata": {},
   "source": [
    "## GRO and XTC"
   ]
  },
  {
   "cell_type": "code",
   "execution_count": null,
   "metadata": {
    "collapsed": false
   },
   "outputs": [],
   "source": [
    "def performanceload(a):\n",
    "    res = a[3]\n",
    "    def load():\n",
    "        start = time.time()\n",
    "        u = mda.Universe(a[0],a[1])\n",
    "        return time.time() - start\n",
    "    return [load() for _ in range(res)]"
   ]
  },
  {
   "cell_type": "code",
   "execution_count": null,
   "metadata": {
    "collapsed": false
   },
   "outputs": [],
   "source": [
    "N = 40\n",
    "p = Pool(len(values))\n",
    "processlist = list([systems['gros'][x],systems['traj'][x],systems['sizes'][x],N] for x in range(len(systems)))\n",
    "dataload = p.map(performanceload,processlist)    \n",
    "systems['load_gro_xtc'] = dataload\n",
    "p.close()\n",
    "systems['load_gro_xtc_mean'] = list(np.mean(r) for r in systems['load_gro_xtc'])\n",
    "systems['load_gro_xtc_std'] = list(np.std(r) for r in systems['load_gro_xtc'])\n",
    "systems.to_pickle(\"performance_combined.df\")"
   ]
  },
  {
   "cell_type": "code",
   "execution_count": null,
   "metadata": {
    "collapsed": false
   },
   "outputs": [],
   "source": [
    "inputs = \"GRO and XTC\"\n",
    "#plt.figure(figsize=(8,4))\n",
    "plt.title(\"Load Time Performance on {0} loading {1} ({2} runs)\".format(hostname,inputs,N))\n",
    "plt.xlabel(\"System Size (atoms)\")\n",
    "plt.ylabel(\"Load time (s)\")\n",
    "D = plt.errorbar(systems['sizes'],systems['load_gro_xtc_mean'],yerr=systems['load_gro_xtc_std'])\n",
    "#plt.savefig(\"/nfs/homes/ikenney/report/figs/loading/\"+inputs.replace(\" \",\"_\").lower())\n",
    "#plt.savefig(\"/nfs/homes/ikenney/report/figs/loading/\"+inputs.replace(\" \",\"_\").lower()+\".pdf\")"
   ]
  },
  {
   "cell_type": "markdown",
   "metadata": {},
   "source": [
    "### PDB and XTC"
   ]
  },
  {
   "cell_type": "code",
   "execution_count": null,
   "metadata": {
    "collapsed": false
   },
   "outputs": [],
   "source": [
    "def performanceload(a):\n",
    "    res = a[3]\n",
    "    def load():\n",
    "        start = time.time()\n",
    "        u = mda.Universe(a[0],a[1])\n",
    "        return time.time() - start\n",
    "    return [load() for _ in range(res)]"
   ]
  },
  {
   "cell_type": "code",
   "execution_count": null,
   "metadata": {
    "collapsed": true
   },
   "outputs": [],
   "source": [
    "N = 40\n",
    "p = Pool(len(values))\n",
    "processlist = list([systems['gros'][x],systems['traj'][x],systems['sizes'][x],N] for x in range(len(systems)))\n",
    "dataload = p.map(performanceload,processlist)    \n",
    "systems['load_pdb_xtc'] = dataload\n",
    "p.close()\n",
    "systems['load_pdb_xtc_mean'] = list(np.mean(r) for r in systems['load_pdb_xtc'])\n",
    "systems['load_pdb_xtc_std'] = list(np.std(r) for r in systems['load_pdb_xtc'])\n",
    "systems.to_pickle(\"performance_combined.df\")"
   ]
  },
  {
   "cell_type": "code",
   "execution_count": null,
   "metadata": {
    "collapsed": false
   },
   "outputs": [],
   "source": [
    "inputs = \"PDB and XTC\"\n",
    "#plt.figure(figsize=(8,4))\n",
    "plt.title(\"Load Time Performance on {0} loading {1} ({2} runs)\".format(hostname,inputs,N))\n",
    "plt.xlabel(\"System Size (atoms)\")\n",
    "plt.ylabel(\"Load time (s)\")\n",
    "E = plt.errorbar(systems['sizes'],systems['load_pdb_xtc_mean'],yerr=systems['load_pdb_xtc_std'])\n",
    "#plt.savefig(\"/nfs/homes/ikenney/report/figs/loading/\"+inputs.replace(\" \",\"_\").lower())\n",
    "#plt.savefig(\"/nfs/homes/ikenney/report/figs/loading/\"+inputs.replace(\" \",\"_\").lower()+\".pdf\")"
   ]
  },
  {
   "cell_type": "code",
   "execution_count": null,
   "metadata": {
    "collapsed": false
   },
   "outputs": [],
   "source": [
    "plt.title(\"Load Time Performance on spuddafett (40 runs)\")\n",
    "plt.ylabel(\"Load Time (s)\")\n",
    "plt.xlabel(\"System Size (atoms)\")\n",
    "plots = [plt.errorbar(systems['sizes'],systems['load_tpr_xtc_mean'],yerr=systems['load_tpr_xtc_std']),plt.errorbar(systems['sizes'],systems['load_gro_mean'],yerr=systems['load_gro_std']),plt.errorbar(systems['sizes'],systems['load_pdb_mean'],yerr=systems['load_pdb_std']),plt.errorbar(systems['sizes'],systems['load_gro_xtc_mean'],yerr=systems['load_gro_xtc_std']),plt.errorbar(systems['sizes'],systems['load_pdb_xtc_mean'],yerr=systems['load_pdb_xtc_std'])]\n",
    "plt.legend(plots,[\"TPR,XTC\",\"GRO\",\"PDB\",\"GRO,XTC\",\"PDB,XTC\"],loc='best')\n",
    "#plt.savefig(\"/nfs/homes/ikenney/report/figs/loading/combined_load\")\n",
    "#plt.savefig(\"/nfs/homes/ikenney/report/figs/loading/combined_load.pdf\")"
   ]
  },
  {
   "cell_type": "code",
   "execution_count": 5,
   "metadata": {
    "collapsed": false
   },
   "outputs": [
    {
     "data": {
      "text/plain": [
       "<matplotlib.legend.Legend at 0x7fd527ac9890>"
      ]
     },
     "execution_count": 5,
     "metadata": {},
     "output_type": "execute_result"
    },
    {
     "data": {
      "image/png": "[encoded data removed]",
      "text/plain": [
       "<matplotlib.figure.Figure at 0x7fd523c37b10>"
      ]
     },
     "metadata": {},
     "output_type": "display_data"
    }
   ],
   "source": [
    "systems = newdata\n",
    "plt.title(\"Load Time Performance on spuddafett (40 runs)\")\n",
    "plt.ylabel(\"Load Time (s)\")\n",
    "plt.xlabel(\"System Size (atoms)\")\n",
    "plots = [plt.errorbar(systems['sizes'],systems['load_tpr_xtc_mean'],yerr=systems['load_tpr_xtc_std']),plt.errorbar(systems['sizes'],systems['load_gro_mean'],yerr=systems['load_gro_std']),plt.errorbar(systems['sizes'],systems['load_pdb_mean'],yerr=systems['load_pdb_std']),plt.errorbar(systems['sizes'],systems['load_gro_xtc_mean'],yerr=systems['load_gro_xtc_std']),plt.errorbar(systems['sizes'],systems['load_pdb_xtc_mean'],yerr=systems['load_pdb_xtc_std'])]\n",
    "plt.legend(plots,[\"TPR,XTC\",\"GRO\",\"PDB\",\"GRO,XTC\",\"PDB,XTC\"],loc='best')\n",
    "#plt.savefig(\"/nfs/homes/ikenney/report/figs/loading/combined_load\")\n",
    "#plt.savefig(\"/nfs/homes/ikenney/report/figs/loading/combined_load.pdf\")"
   ]
  },
  {
   "cell_type": "code",
   "execution_count": null,
   "metadata": {
    "collapsed": false
   },
   "outputs": [],
   "source": [
    "systems.drop(systems.index[10])"
   ]
  },
  {
   "cell_type": "code",
   "execution_count": null,
   "metadata": {
    "collapsed": false,
    "scrolled": true
   },
   "outputs": [],
   "source": [
    "testing.drop(testing.index[-1])"
   ]
  },
  {
   "cell_type": "code",
   "execution_count": null,
   "metadata": {
    "collapsed": false
   },
   "outputs": [],
   "source": [
    "pd.DataFrame(columns=testing.columns.tolist())"
   ]
  },
  {
   "cell_type": "code",
   "execution_count": null,
   "metadata": {
    "collapsed": false
   },
   "outputs": [],
   "source": [
    "testing"
   ]
  },
  {
   "cell_type": "code",
   "execution_count": null,
   "metadata": {
    "collapsed": false
   },
   "outputs": [],
   "source": [
    "testing"
   ]
  },
  {
   "cell_type": "code",
   "execution_count": null,
   "metadata": {
    "collapsed": true
   },
   "outputs": [],
   "source": [
    "testing.to_pickle(\"backup.df\")"
   ]
  },
  {
   "cell_type": "code",
   "execution_count": null,
   "metadata": {
    "collapsed": false
   },
   "outputs": [],
   "source": [
    "testing"
   ]
  },
  {
   "cell_type": "code",
   "execution_count": null,
   "metadata": {
    "collapsed": false
   },
   "outputs": [],
   "source": [
    "testing[\"pdbs\"].notnull().loc[\"30\"]"
   ]
  },
  {
   "cell_type": "code",
   "execution_count": null,
   "metadata": {
    "collapsed": false
   },
   "outputs": [],
   "source": [
    "vam.function_dict"
   ]
  },
  {
   "cell_type": "code",
   "execution_count": null,
   "metadata": {
    "collapsed": false
   },
   "outputs": [],
   "source": [
    "testing"
   ]
  },
  {
   "cell_type": "code",
   "execution_count": null,
   "metadata": {
    "collapsed": false
   },
   "outputs": [],
   "source": [
    "import vesicle_analysis_methods as vam\n",
    "import pandas as pd\n",
    "\n",
    "#testing = pd.read_pickle(\"backup.df\")\n",
    "#testing = vam.integrity(testing,N=3)"
   ]
  },
  {
   "cell_type": "code",
   "execution_count": null,
   "metadata": {
    "collapsed": false
   },
   "outputs": [],
   "source": [
    "newdata = vam.integrity(newdata)"
   ]
  },
  {
   "cell_type": "code",
   "execution_count": null,
   "metadata": {
    "collapsed": true
   },
   "outputs": [],
   "source": [
    "newdata.to_pickle(\"newdata.df\")"
   ]
  },
  {
   "cell_type": "code",
   "execution_count": null,
   "metadata": {
    "collapsed": false
   },
   "outputs": [],
   "source": [
    "newdata = pd.read_pickle(\"newdata.df\")"
   ]
  },
  {
   "cell_type": "code",
   "execution_count": null,
   "metadata": {
    "collapsed": false
   },
   "outputs": [],
   "source": [
    "newdata.loc[\"3M\"]"
   ]
  },
  {
   "cell_type": "code",
   "execution_count": null,
   "metadata": {
    "collapsed": false
   },
   "outputs": [],
   "source": [
    "vam.integrity(newdata,N=3)"
   ]
  },
  {
   "cell_type": "code",
   "execution_count": 1,
   "metadata": {
    "collapsed": false
   },
   "outputs": [
    {
     "name": "stdout",
     "output_type": "stream",
     "text": [
      "MDA version: 0.11.0\n",
      "load_tpr_xtc missing from 3M. Fill in data? (y/n)\n",
      "Fill:\ty\n",
      "['3M', 'load_tpr_xtc']\n",
      "Added to fill list.\n",
      "\n",
      "load_gro_xtc missing from 3M. Fill in data? (y/n)\n",
      "Fill:\ty\n",
      "['3M', 'load_gro_xtc']\n",
      "Added to fill list.\n",
      "\n",
      "load_pdb_xtc missing from 3M. Fill in data? (y/n)\n",
      "Fill:\ty\n",
      "['3M', 'load_pdb_xtc']\n",
      "Added to fill list.\n",
      "\n",
      "Filling in data from: /nfs/homes/ikenney/Projects/vesicles/scripts/analysis/systems/3M\n",
      "checking resources\n",
      "Adding trajectory information\n",
      "Filling in data from: /nfs/homes/ikenney/Projects/vesicles/scripts/analysis/systems/3M\n",
      "checking resources\n",
      "Filling in data from: /nfs/homes/ikenney/Projects/vesicles/scripts/analysis/systems/3M\n",
      "checking resources\n"
     ]
    },
    {
     "name": "stderr",
     "output_type": "stream",
     "text": [
      "/usr/local/lib/python2.7/dist-packages/pandas/core/indexing.py:115: SettingWithCopyWarning: \n",
      "A value is trying to be set on a copy of a slice from a DataFrame\n",
      "\n",
      "See the the caveats in the documentation: http://pandas.pydata.org/pandas-docs/stable/indexing.html#indexing-view-versus-copy\n",
      "  self._setitem_with_indexer(indexer, value)\n"
     ]
    }
   ],
   "source": [
    "import MDAnalysis as mda\n",
    "import time\n",
    "import os\n",
    "import numpy\n",
    "from multiprocessing import Pool\n",
    "import matplotlib.pyplot as plt\n",
    "import numpy as np\n",
    "import pandas as pd\n",
    "import glob\n",
    "import vesicle_analysis_methods as vam\n",
    "%matplotlib inline\n",
    "print(\"MDA version: \" + mda.__version__)\n",
    "newdata = pd.read_pickle(\"newdata.df\")\n",
    "newdata = vam.integrity(newdata)"
   ]
  },
  {
   "cell_type": "code",
   "execution_count": null,
   "metadata": {
    "collapsed": false
   },
   "outputs": [],
   "source": [
    "newdata = vam.integrity(newdata,N=3)"
   ]
  },
  {
   "cell_type": "code",
   "execution_count": 2,
   "metadata": {
    "collapsed": false
   },
   "outputs": [
    {
     "data": {
      "text/html": [
       "<div>\n",
       "<table border=\"1\" class=\"dataframe\">\n",
       "  <thead>\n",
       "    <tr style=\"text-align: right;\">\n",
       "      <th></th>\n",
       "      <th>tops</th>\n",
       "      <th>traj</th>\n",
       "      <th>gros</th>\n",
       "      <th>pdbs</th>\n",
       "      <th>sizes</th>\n",
       "      <th>load_tpr_xtc</th>\n",
       "      <th>load_tpr_xtc_mean</th>\n",
       "      <th>load_tpr_xtc_std</th>\n",
       "      <th>rgyr</th>\n",
       "      <th>rgyr_mean</th>\n",
       "      <th>...</th>\n",
       "      <th>load_gro_std</th>\n",
       "      <th>load_pdb</th>\n",
       "      <th>load_pdb_mean</th>\n",
       "      <th>load_pdb_std</th>\n",
       "      <th>load_gro_xtc</th>\n",
       "      <th>load_gro_xtc_mean</th>\n",
       "      <th>load_gro_xtc_std</th>\n",
       "      <th>load_pdb_xtc</th>\n",
       "      <th>load_pdb_xtc_mean</th>\n",
       "      <th>load_pdb_xtc_std</th>\n",
       "    </tr>\n",
       "  </thead>\n",
       "  <tbody>\n",
       "    <tr>\n",
       "      <th>10</th>\n",
       "      <td>/nfs/homes/ikenney/Projects/vesicles/scripts/a...</td>\n",
       "      <td>/nfs/homes/ikenney/Projects/vesicles/scripts/a...</td>\n",
       "      <td>/nfs/homes/ikenney/Projects/vesicles/scripts/a...</td>\n",
       "      <td>/nfs/homes/ikenney/Projects/vesicles/scripts/a...</td>\n",
       "      <td>84192</td>\n",
       "      <td>[0.680706977844, 0.760932922363, 0.82935786247...</td>\n",
       "      <td>0.7722436</td>\n",
       "      <td>0.04086874</td>\n",
       "      <td>NaN</td>\n",
       "      <td>NaN</td>\n",
       "      <td>...</td>\n",
       "      <td>0.0967985</td>\n",
       "      <td>[1.68877291679, 1.79339694977, 1.75952792168, ...</td>\n",
       "      <td>1.699505</td>\n",
       "      <td>0.05264341</td>\n",
       "      <td>[0.917989969254, 0.931171894073, 0.88675713539...</td>\n",
       "      <td>0.9193079</td>\n",
       "      <td>0.03335214</td>\n",
       "      <td>[1.12179684639, 1.23192596436, 1.31319212914, ...</td>\n",
       "      <td>1.279128</td>\n",
       "      <td>0.05043979</td>\n",
       "    </tr>\n",
       "    <tr>\n",
       "      <th>12.5</th>\n",
       "      <td>/nfs/homes/ikenney/Projects/vesicles/scripts/a...</td>\n",
       "      <td>/nfs/homes/ikenney/Projects/vesicles/scripts/a...</td>\n",
       "      <td>/nfs/homes/ikenney/Projects/vesicles/scripts/a...</td>\n",
       "      <td>/nfs/homes/ikenney/Projects/vesicles/scripts/a...</td>\n",
       "      <td>122208</td>\n",
       "      <td>[0.891258001328, 1.04460477829, 1.01538491249,...</td>\n",
       "      <td>1.057474</td>\n",
       "      <td>0.07671819</td>\n",
       "      <td>NaN</td>\n",
       "      <td>NaN</td>\n",
       "      <td>...</td>\n",
       "      <td>0.1191053</td>\n",
       "      <td>[2.27990412712, 2.30675578117, 2.36117100716, ...</td>\n",
       "      <td>2.353735</td>\n",
       "      <td>0.097989</td>\n",
       "      <td>[1.16333889961, 1.22147083282, 1.22417187691, ...</td>\n",
       "      <td>1.252071</td>\n",
       "      <td>0.06541449</td>\n",
       "      <td>[1.72504496574, 1.5486061573, 1.61223983765, 1...</td>\n",
       "      <td>1.7398</td>\n",
       "      <td>0.08016933</td>\n",
       "    </tr>\n",
       "    <tr>\n",
       "      <th>15</th>\n",
       "      <td>/nfs/homes/ikenney/Projects/vesicles/scripts/a...</td>\n",
       "      <td>/nfs/homes/ikenney/Projects/vesicles/scripts/a...</td>\n",
       "      <td>/nfs/homes/ikenney/Projects/vesicles/scripts/a...</td>\n",
       "      <td>/nfs/homes/ikenney/Projects/vesicles/scripts/a...</td>\n",
       "      <td>167352</td>\n",
       "      <td>[1.52840089798, 1.53512191772, 1.54856395721, ...</td>\n",
       "      <td>1.44739</td>\n",
       "      <td>0.07513938</td>\n",
       "      <td>NaN</td>\n",
       "      <td>NaN</td>\n",
       "      <td>...</td>\n",
       "      <td>0.117943</td>\n",
       "      <td>[2.94634389877, 3.06615591049, 2.95870995522, ...</td>\n",
       "      <td>3.0341</td>\n",
       "      <td>0.1417055</td>\n",
       "      <td>[1.69369387627, 1.65161800385, 1.47233390808, ...</td>\n",
       "      <td>1.717159</td>\n",
       "      <td>0.08936595</td>\n",
       "      <td>[2.14778995514, 2.56267595291, 2.36677098274, ...</td>\n",
       "      <td>2.272991</td>\n",
       "      <td>0.1242406</td>\n",
       "    </tr>\n",
       "    <tr>\n",
       "      <th>17.5</th>\n",
       "      <td>/nfs/homes/ikenney/Projects/vesicles/scripts/a...</td>\n",
       "      <td>/nfs/homes/ikenney/Projects/vesicles/scripts/a...</td>\n",
       "      <td>/nfs/homes/ikenney/Projects/vesicles/scripts/a...</td>\n",
       "      <td>/nfs/homes/ikenney/Projects/vesicles/scripts/a...</td>\n",
       "      <td>219000</td>\n",
       "      <td>[1.83228397369, 1.88783597946, 1.99191689491, ...</td>\n",
       "      <td>1.865459</td>\n",
       "      <td>0.1060598</td>\n",
       "      <td>NaN</td>\n",
       "      <td>NaN</td>\n",
       "      <td>...</td>\n",
       "      <td>0.1922817</td>\n",
       "      <td>[4.23802304268, 4.23769903183, 4.01515221596, ...</td>\n",
       "      <td>3.968961</td>\n",
       "      <td>0.2453085</td>\n",
       "      <td>[2.07118606567, 2.10249185562, 2.33951711655, ...</td>\n",
       "      <td>2.286091</td>\n",
       "      <td>0.1359575</td>\n",
       "      <td>[3.09319400787, 3.18711495399, 2.98173618317, ...</td>\n",
       "      <td>2.999742</td>\n",
       "      <td>0.1597122</td>\n",
       "    </tr>\n",
       "    <tr>\n",
       "      <th>20</th>\n",
       "      <td>/nfs/homes/ikenney/Projects/vesicles/scripts/a...</td>\n",
       "      <td>/nfs/homes/ikenney/Projects/vesicles/scripts/a...</td>\n",
       "      <td>/nfs/homes/ikenney/Projects/vesicles/scripts/a...</td>\n",
       "      <td>/nfs/homes/ikenney/Projects/vesicles/scripts/a...</td>\n",
       "      <td>277728</td>\n",
       "      <td>[2.28062582016, 2.27865791321, 2.27461481094, ...</td>\n",
       "      <td>2.427777</td>\n",
       "      <td>0.165314</td>\n",
       "      <td>NaN</td>\n",
       "      <td>NaN</td>\n",
       "      <td>...</td>\n",
       "      <td>0.2245936</td>\n",
       "      <td>[4.79326486588, 4.63493013382, 4.77587509155, ...</td>\n",
       "      <td>4.950939</td>\n",
       "      <td>0.2631853</td>\n",
       "      <td>[2.76664614677, 3.06926584244, 2.92778778076, ...</td>\n",
       "      <td>2.825868</td>\n",
       "      <td>0.1574814</td>\n",
       "      <td>[3.51713299751, 3.522356987, 3.36134314537, 3....</td>\n",
       "      <td>3.661395</td>\n",
       "      <td>0.1824004</td>\n",
       "    </tr>\n",
       "    <tr>\n",
       "      <th>22.5</th>\n",
       "      <td>/nfs/homes/ikenney/Projects/vesicles/scripts/a...</td>\n",
       "      <td>/nfs/homes/ikenney/Projects/vesicles/scripts/a...</td>\n",
       "      <td>/nfs/homes/ikenney/Projects/vesicles/scripts/a...</td>\n",
       "      <td>/nfs/homes/ikenney/Projects/vesicles/scripts/a...</td>\n",
       "      <td>343500</td>\n",
       "      <td>[2.87668991089, 2.97341012955, 2.96857309341, ...</td>\n",
       "      <td>2.988239</td>\n",
       "      <td>0.1719281</td>\n",
       "      <td>NaN</td>\n",
       "      <td>NaN</td>\n",
       "      <td>...</td>\n",
       "      <td>0.2618722</td>\n",
       "      <td>[5.38981699944, 6.61877608299, 6.32967591286, ...</td>\n",
       "      <td>5.983101</td>\n",
       "      <td>0.300066</td>\n",
       "      <td>[3.53340387344, 3.79097795486, 3.44709300995, ...</td>\n",
       "      <td>3.541951</td>\n",
       "      <td>0.2158795</td>\n",
       "      <td>[4.93351101875, 4.91674995422, 4.45620107651, ...</td>\n",
       "      <td>4.57652</td>\n",
       "      <td>0.2749574</td>\n",
       "    </tr>\n",
       "    <tr>\n",
       "      <th>25</th>\n",
       "      <td>/nfs/homes/ikenney/Projects/vesicles/scripts/a...</td>\n",
       "      <td>/nfs/homes/ikenney/Projects/vesicles/scripts/a...</td>\n",
       "      <td>/nfs/homes/ikenney/Projects/vesicles/scripts/a...</td>\n",
       "      <td>/nfs/homes/ikenney/Projects/vesicles/scripts/a...</td>\n",
       "      <td>416208</td>\n",
       "      <td>[3.2885799408, 3.32700014114, 3.90747094154, 4...</td>\n",
       "      <td>3.686775</td>\n",
       "      <td>0.1880814</td>\n",
       "      <td>NaN</td>\n",
       "      <td>NaN</td>\n",
       "      <td>...</td>\n",
       "      <td>0.2354892</td>\n",
       "      <td>[7.85491609573, 7.64530110359, 8.13620305061, ...</td>\n",
       "      <td>7.274715</td>\n",
       "      <td>0.4350955</td>\n",
       "      <td>[4.09495210648, 3.92461419106, 4.27332901955, ...</td>\n",
       "      <td>4.329834</td>\n",
       "      <td>0.2583628</td>\n",
       "      <td>[4.98082590103, 5.45941090584, 5.15562486649, ...</td>\n",
       "      <td>5.404492</td>\n",
       "      <td>0.3220006</td>\n",
       "    </tr>\n",
       "    <tr>\n",
       "      <th>27.5</th>\n",
       "      <td>/nfs/homes/ikenney/Projects/vesicles/scripts/a...</td>\n",
       "      <td>/nfs/homes/ikenney/Projects/vesicles/scripts/a...</td>\n",
       "      <td>/nfs/homes/ikenney/Projects/vesicles/scripts/a...</td>\n",
       "      <td>/nfs/homes/ikenney/Projects/vesicles/scripts/a...</td>\n",
       "      <td>496044</td>\n",
       "      <td>[4.16600704193, 4.31126999855, 4.14231610298, ...</td>\n",
       "      <td>4.348394</td>\n",
       "      <td>0.249511</td>\n",
       "      <td>NaN</td>\n",
       "      <td>NaN</td>\n",
       "      <td>...</td>\n",
       "      <td>0.3823209</td>\n",
       "      <td>[8.56300711632, 8.2352399826, 7.8729300499, 9....</td>\n",
       "      <td>8.291534</td>\n",
       "      <td>0.4729319</td>\n",
       "      <td>[5.70434403419, 5.33340287209, 5.14834809303, ...</td>\n",
       "      <td>5.189192</td>\n",
       "      <td>0.381183</td>\n",
       "      <td>[6.54948711395, 6.38159298897, 6.9465341568, 7...</td>\n",
       "      <td>6.568284</td>\n",
       "      <td>0.3917862</td>\n",
       "    </tr>\n",
       "    <tr>\n",
       "      <th>30</th>\n",
       "      <td>/nfs/homes/ikenney/Projects/vesicles/scripts/a...</td>\n",
       "      <td>/nfs/homes/ikenney/Projects/vesicles/scripts/a...</td>\n",
       "      <td>/nfs/homes/ikenney/Projects/vesicles/scripts/a...</td>\n",
       "      <td>/nfs/homes/ikenney/Projects/vesicles/scripts/a...</td>\n",
       "      <td>582984</td>\n",
       "      <td>[5.32925605774, 5.05408191681, 4.66878414154, ...</td>\n",
       "      <td>5.093372</td>\n",
       "      <td>0.3329689</td>\n",
       "      <td>NaN</td>\n",
       "      <td>NaN</td>\n",
       "      <td>...</td>\n",
       "      <td>0.4430882</td>\n",
       "      <td>[11.1163179874, 11.2373569012, 10.6013197899, ...</td>\n",
       "      <td>10.57251</td>\n",
       "      <td>0.372124</td>\n",
       "      <td>[6.50797700882, 6.57380986214, 6.7422440052, 6...</td>\n",
       "      <td>6.400595</td>\n",
       "      <td>0.3304818</td>\n",
       "      <td>[8.29169392586, 7.98668599129, 7.28899598122, ...</td>\n",
       "      <td>8.005941</td>\n",
       "      <td>0.3889334</td>\n",
       "    </tr>\n",
       "    <tr>\n",
       "      <th>cannon</th>\n",
       "      <td>/nfs/homes/ikenney/Projects/vesicles/scripts/a...</td>\n",
       "      <td>/nfs/homes/ikenney/Projects/vesicles/scripts/a...</td>\n",
       "      <td>/nfs/homes/ikenney/Projects/vesicles/scripts/a...</td>\n",
       "      <td>/nfs/homes/ikenney/Projects/vesicles/scripts/a...</td>\n",
       "      <td>836760</td>\n",
       "      <td>[7.71311998367, 8.19835591316, 7.21624612808, ...</td>\n",
       "      <td>7.899283</td>\n",
       "      <td>0.3334474</td>\n",
       "      <td>NaN</td>\n",
       "      <td>NaN</td>\n",
       "      <td>...</td>\n",
       "      <td>0.5001312</td>\n",
       "      <td>[15.605437994, 14.5393760204, 14.1091051102, 1...</td>\n",
       "      <td>15.01178</td>\n",
       "      <td>0.5627663</td>\n",
       "      <td>[9.1203110218, 9.25729107857, 9.48435902596, 9...</td>\n",
       "      <td>9.660218</td>\n",
       "      <td>0.4368711</td>\n",
       "      <td>[11.8989450932, 11.3517119884, 10.9245948792, ...</td>\n",
       "      <td>11.77244</td>\n",
       "      <td>0.529392</td>\n",
       "    </tr>\n",
       "    <tr>\n",
       "      <th>super</th>\n",
       "      <td>/nfs/homes/ikenney/Projects/vesicles/scripts/a...</td>\n",
       "      <td>/nfs/homes/ikenney/Projects/vesicles/scripts/a...</td>\n",
       "      <td>/nfs/homes/ikenney/Projects/vesicles/scripts/a...</td>\n",
       "      <td>/nfs/homes/ikenney/Projects/vesicles/scripts/a...</td>\n",
       "      <td>1500672</td>\n",
       "      <td>[12.7006640434, 13.3395321369, 13.1018028259, ...</td>\n",
       "      <td>14.09573</td>\n",
       "      <td>1.311168</td>\n",
       "      <td>NaN</td>\n",
       "      <td>NaN</td>\n",
       "      <td>...</td>\n",
       "      <td>0.8543598</td>\n",
       "      <td>[23.6230280399, 24.3846650124, 25.5151429176, ...</td>\n",
       "      <td>25.22098</td>\n",
       "      <td>1.455108</td>\n",
       "      <td>[17.8867101669, 15.0414330959, 14.3209469318, ...</td>\n",
       "      <td>17.72194</td>\n",
       "      <td>0.9264057</td>\n",
       "      <td>[22.1546928883, 21.7618780136, 22.0363059044, ...</td>\n",
       "      <td>20.7274</td>\n",
       "      <td>0.8951446</td>\n",
       "    </tr>\n",
       "    <tr>\n",
       "      <th>1_5M</th>\n",
       "      <td>/nfs/homes/ikenney/Projects/vesicles/scripts/a...</td>\n",
       "      <td>/nfs/homes/ikenney/Projects/vesicles/scripts/a...</td>\n",
       "      <td>/nfs/homes/ikenney/Projects/vesicles/scripts/a...</td>\n",
       "      <td>/nfs/homes/ikenney/Projects/vesicles/scripts/a...</td>\n",
       "      <td>1748952</td>\n",
       "      <td>[14.8155329227, 16.0280730724, 15.9007279873, ...</td>\n",
       "      <td>15.85753</td>\n",
       "      <td>0.8195818</td>\n",
       "      <td>NaN</td>\n",
       "      <td>NaN</td>\n",
       "      <td>...</td>\n",
       "      <td>0.797222</td>\n",
       "      <td>[33.0671489239, 32.2095677853, 32.3004369736, ...</td>\n",
       "      <td>31.67165</td>\n",
       "      <td>1.010774</td>\n",
       "      <td>[19.3383090496, 18.371505022, 18.1456730366, 1...</td>\n",
       "      <td>18.304</td>\n",
       "      <td>0.8275532</td>\n",
       "      <td>[24.8909859657, 24.6305069923, 22.8018019199, ...</td>\n",
       "      <td>23.72847</td>\n",
       "      <td>0.9490909</td>\n",
       "    </tr>\n",
       "    <tr>\n",
       "      <th>3M</th>\n",
       "      <td>/nfs/homes/ikenney/Projects/vesicles/scripts/a...</td>\n",
       "      <td>/nfs/homes/ikenney/Projects/vesicles/scripts/a...</td>\n",
       "      <td>/nfs/homes/ikenney/Projects/vesicles/scripts/a...</td>\n",
       "      <td>/nfs/homes/ikenney/Projects/vesicles/scripts/a...</td>\n",
       "      <td>3497904</td>\n",
       "      <td>[29.7199430466, 31.5224978924, 31.7822639942, ...</td>\n",
       "      <td>32.68192</td>\n",
       "      <td>1.397104</td>\n",
       "      <td>NaN</td>\n",
       "      <td>NaN</td>\n",
       "      <td>...</td>\n",
       "      <td>1.007185</td>\n",
       "      <td>[66.0530619621, 66.0109028816, 65.6903841496, ...</td>\n",
       "      <td>64.47314</td>\n",
       "      <td>2.996808</td>\n",
       "      <td>[31.5245029926, 32.2716429234, 35.1793210506, ...</td>\n",
       "      <td>35.15403</td>\n",
       "      <td>1.456334</td>\n",
       "      <td>[42.583532095, 49.0743999481, 48.2223720551, 4...</td>\n",
       "      <td>47.91383</td>\n",
       "      <td>1.653363</td>\n",
       "    </tr>\n",
       "  </tbody>\n",
       "</table>\n",
       "<p>13 rows × 23 columns</p>\n",
       "</div>"
      ],
      "text/plain": [
       "                                                     tops  \\\n",
       "10      /nfs/homes/ikenney/Projects/vesicles/scripts/a...   \n",
       "12.5    /nfs/homes/ikenney/Projects/vesicles/scripts/a...   \n",
       "15      /nfs/homes/ikenney/Projects/vesicles/scripts/a...   \n",
       "17.5    /nfs/homes/ikenney/Projects/vesicles/scripts/a...   \n",
       "20      /nfs/homes/ikenney/Projects/vesicles/scripts/a...   \n",
       "22.5    /nfs/homes/ikenney/Projects/vesicles/scripts/a...   \n",
       "25      /nfs/homes/ikenney/Projects/vesicles/scripts/a...   \n",
       "27.5    /nfs/homes/ikenney/Projects/vesicles/scripts/a...   \n",
       "30      /nfs/homes/ikenney/Projects/vesicles/scripts/a...   \n",
       "cannon  /nfs/homes/ikenney/Projects/vesicles/scripts/a...   \n",
       "super   /nfs/homes/ikenney/Projects/vesicles/scripts/a...   \n",
       "1_5M    /nfs/homes/ikenney/Projects/vesicles/scripts/a...   \n",
       "3M      /nfs/homes/ikenney/Projects/vesicles/scripts/a...   \n",
       "\n",
       "                                                     traj  \\\n",
       "10      /nfs/homes/ikenney/Projects/vesicles/scripts/a...   \n",
       "12.5    /nfs/homes/ikenney/Projects/vesicles/scripts/a...   \n",
       "15      /nfs/homes/ikenney/Projects/vesicles/scripts/a...   \n",
       "17.5    /nfs/homes/ikenney/Projects/vesicles/scripts/a...   \n",
       "20      /nfs/homes/ikenney/Projects/vesicles/scripts/a...   \n",
       "22.5    /nfs/homes/ikenney/Projects/vesicles/scripts/a...   \n",
       "25      /nfs/homes/ikenney/Projects/vesicles/scripts/a...   \n",
       "27.5    /nfs/homes/ikenney/Projects/vesicles/scripts/a...   \n",
       "30      /nfs/homes/ikenney/Projects/vesicles/scripts/a...   \n",
       "cannon  /nfs/homes/ikenney/Projects/vesicles/scripts/a...   \n",
       "super   /nfs/homes/ikenney/Projects/vesicles/scripts/a...   \n",
       "1_5M    /nfs/homes/ikenney/Projects/vesicles/scripts/a...   \n",
       "3M      /nfs/homes/ikenney/Projects/vesicles/scripts/a...   \n",
       "\n",
       "                                                     gros  \\\n",
       "10      /nfs/homes/ikenney/Projects/vesicles/scripts/a...   \n",
       "12.5    /nfs/homes/ikenney/Projects/vesicles/scripts/a...   \n",
       "15      /nfs/homes/ikenney/Projects/vesicles/scripts/a...   \n",
       "17.5    /nfs/homes/ikenney/Projects/vesicles/scripts/a...   \n",
       "20      /nfs/homes/ikenney/Projects/vesicles/scripts/a...   \n",
       "22.5    /nfs/homes/ikenney/Projects/vesicles/scripts/a...   \n",
       "25      /nfs/homes/ikenney/Projects/vesicles/scripts/a...   \n",
       "27.5    /nfs/homes/ikenney/Projects/vesicles/scripts/a...   \n",
       "30      /nfs/homes/ikenney/Projects/vesicles/scripts/a...   \n",
       "cannon  /nfs/homes/ikenney/Projects/vesicles/scripts/a...   \n",
       "super   /nfs/homes/ikenney/Projects/vesicles/scripts/a...   \n",
       "1_5M    /nfs/homes/ikenney/Projects/vesicles/scripts/a...   \n",
       "3M      /nfs/homes/ikenney/Projects/vesicles/scripts/a...   \n",
       "\n",
       "                                                     pdbs    sizes  \\\n",
       "10      /nfs/homes/ikenney/Projects/vesicles/scripts/a...    84192   \n",
       "12.5    /nfs/homes/ikenney/Projects/vesicles/scripts/a...   122208   \n",
       "15      /nfs/homes/ikenney/Projects/vesicles/scripts/a...   167352   \n",
       "17.5    /nfs/homes/ikenney/Projects/vesicles/scripts/a...   219000   \n",
       "20      /nfs/homes/ikenney/Projects/vesicles/scripts/a...   277728   \n",
       "22.5    /nfs/homes/ikenney/Projects/vesicles/scripts/a...   343500   \n",
       "25      /nfs/homes/ikenney/Projects/vesicles/scripts/a...   416208   \n",
       "27.5    /nfs/homes/ikenney/Projects/vesicles/scripts/a...   496044   \n",
       "30      /nfs/homes/ikenney/Projects/vesicles/scripts/a...   582984   \n",
       "cannon  /nfs/homes/ikenney/Projects/vesicles/scripts/a...   836760   \n",
       "super   /nfs/homes/ikenney/Projects/vesicles/scripts/a...  1500672   \n",
       "1_5M    /nfs/homes/ikenney/Projects/vesicles/scripts/a...  1748952   \n",
       "3M      /nfs/homes/ikenney/Projects/vesicles/scripts/a...  3497904   \n",
       "\n",
       "                                             load_tpr_xtc load_tpr_xtc_mean  \\\n",
       "10      [0.680706977844, 0.760932922363, 0.82935786247...         0.7722436   \n",
       "12.5    [0.891258001328, 1.04460477829, 1.01538491249,...          1.057474   \n",
       "15      [1.52840089798, 1.53512191772, 1.54856395721, ...           1.44739   \n",
       "17.5    [1.83228397369, 1.88783597946, 1.99191689491, ...          1.865459   \n",
       "20      [2.28062582016, 2.27865791321, 2.27461481094, ...          2.427777   \n",
       "22.5    [2.87668991089, 2.97341012955, 2.96857309341, ...          2.988239   \n",
       "25      [3.2885799408, 3.32700014114, 3.90747094154, 4...          3.686775   \n",
       "27.5    [4.16600704193, 4.31126999855, 4.14231610298, ...          4.348394   \n",
       "30      [5.32925605774, 5.05408191681, 4.66878414154, ...          5.093372   \n",
       "cannon  [7.71311998367, 8.19835591316, 7.21624612808, ...          7.899283   \n",
       "super   [12.7006640434, 13.3395321369, 13.1018028259, ...          14.09573   \n",
       "1_5M    [14.8155329227, 16.0280730724, 15.9007279873, ...          15.85753   \n",
       "3M      [29.7199430466, 31.5224978924, 31.7822639942, ...          32.68192   \n",
       "\n",
       "       load_tpr_xtc_std rgyr rgyr_mean       ...        load_gro_std  \\\n",
       "10           0.04086874  NaN       NaN       ...           0.0967985   \n",
       "12.5         0.07671819  NaN       NaN       ...           0.1191053   \n",
       "15           0.07513938  NaN       NaN       ...            0.117943   \n",
       "17.5          0.1060598  NaN       NaN       ...           0.1922817   \n",
       "20             0.165314  NaN       NaN       ...           0.2245936   \n",
       "22.5          0.1719281  NaN       NaN       ...           0.2618722   \n",
       "25            0.1880814  NaN       NaN       ...           0.2354892   \n",
       "27.5           0.249511  NaN       NaN       ...           0.3823209   \n",
       "30            0.3329689  NaN       NaN       ...           0.4430882   \n",
       "cannon        0.3334474  NaN       NaN       ...           0.5001312   \n",
       "super          1.311168  NaN       NaN       ...           0.8543598   \n",
       "1_5M          0.8195818  NaN       NaN       ...            0.797222   \n",
       "3M             1.397104  NaN       NaN       ...            1.007185   \n",
       "\n",
       "                                                 load_pdb load_pdb_mean  \\\n",
       "10      [1.68877291679, 1.79339694977, 1.75952792168, ...      1.699505   \n",
       "12.5    [2.27990412712, 2.30675578117, 2.36117100716, ...      2.353735   \n",
       "15      [2.94634389877, 3.06615591049, 2.95870995522, ...        3.0341   \n",
       "17.5    [4.23802304268, 4.23769903183, 4.01515221596, ...      3.968961   \n",
       "20      [4.79326486588, 4.63493013382, 4.77587509155, ...      4.950939   \n",
       "22.5    [5.38981699944, 6.61877608299, 6.32967591286, ...      5.983101   \n",
       "25      [7.85491609573, 7.64530110359, 8.13620305061, ...      7.274715   \n",
       "27.5    [8.56300711632, 8.2352399826, 7.8729300499, 9....      8.291534   \n",
       "30      [11.1163179874, 11.2373569012, 10.6013197899, ...      10.57251   \n",
       "cannon  [15.605437994, 14.5393760204, 14.1091051102, 1...      15.01178   \n",
       "super   [23.6230280399, 24.3846650124, 25.5151429176, ...      25.22098   \n",
       "1_5M    [33.0671489239, 32.2095677853, 32.3004369736, ...      31.67165   \n",
       "3M      [66.0530619621, 66.0109028816, 65.6903841496, ...      64.47314   \n",
       "\n",
       "       load_pdb_std                                       load_gro_xtc  \\\n",
       "10       0.05264341  [0.917989969254, 0.931171894073, 0.88675713539...   \n",
       "12.5       0.097989  [1.16333889961, 1.22147083282, 1.22417187691, ...   \n",
       "15        0.1417055  [1.69369387627, 1.65161800385, 1.47233390808, ...   \n",
       "17.5      0.2453085  [2.07118606567, 2.10249185562, 2.33951711655, ...   \n",
       "20        0.2631853  [2.76664614677, 3.06926584244, 2.92778778076, ...   \n",
       "22.5       0.300066  [3.53340387344, 3.79097795486, 3.44709300995, ...   \n",
       "25        0.4350955  [4.09495210648, 3.92461419106, 4.27332901955, ...   \n",
       "27.5      0.4729319  [5.70434403419, 5.33340287209, 5.14834809303, ...   \n",
       "30         0.372124  [6.50797700882, 6.57380986214, 6.7422440052, 6...   \n",
       "cannon    0.5627663  [9.1203110218, 9.25729107857, 9.48435902596, 9...   \n",
       "super      1.455108  [17.8867101669, 15.0414330959, 14.3209469318, ...   \n",
       "1_5M       1.010774  [19.3383090496, 18.371505022, 18.1456730366, 1...   \n",
       "3M         2.996808  [31.5245029926, 32.2716429234, 35.1793210506, ...   \n",
       "\n",
       "       load_gro_xtc_mean load_gro_xtc_std  \\\n",
       "10             0.9193079       0.03335214   \n",
       "12.5            1.252071       0.06541449   \n",
       "15              1.717159       0.08936595   \n",
       "17.5            2.286091        0.1359575   \n",
       "20              2.825868        0.1574814   \n",
       "22.5            3.541951        0.2158795   \n",
       "25              4.329834        0.2583628   \n",
       "27.5            5.189192         0.381183   \n",
       "30              6.400595        0.3304818   \n",
       "cannon          9.660218        0.4368711   \n",
       "super           17.72194        0.9264057   \n",
       "1_5M              18.304        0.8275532   \n",
       "3M              35.15403         1.456334   \n",
       "\n",
       "                                             load_pdb_xtc load_pdb_xtc_mean  \\\n",
       "10      [1.12179684639, 1.23192596436, 1.31319212914, ...          1.279128   \n",
       "12.5    [1.72504496574, 1.5486061573, 1.61223983765, 1...            1.7398   \n",
       "15      [2.14778995514, 2.56267595291, 2.36677098274, ...          2.272991   \n",
       "17.5    [3.09319400787, 3.18711495399, 2.98173618317, ...          2.999742   \n",
       "20      [3.51713299751, 3.522356987, 3.36134314537, 3....          3.661395   \n",
       "22.5    [4.93351101875, 4.91674995422, 4.45620107651, ...           4.57652   \n",
       "25      [4.98082590103, 5.45941090584, 5.15562486649, ...          5.404492   \n",
       "27.5    [6.54948711395, 6.38159298897, 6.9465341568, 7...          6.568284   \n",
       "30      [8.29169392586, 7.98668599129, 7.28899598122, ...          8.005941   \n",
       "cannon  [11.8989450932, 11.3517119884, 10.9245948792, ...          11.77244   \n",
       "super   [22.1546928883, 21.7618780136, 22.0363059044, ...           20.7274   \n",
       "1_5M    [24.8909859657, 24.6305069923, 22.8018019199, ...          23.72847   \n",
       "3M      [42.583532095, 49.0743999481, 48.2223720551, 4...          47.91383   \n",
       "\n",
       "       load_pdb_xtc_std  \n",
       "10           0.05043979  \n",
       "12.5         0.08016933  \n",
       "15            0.1242406  \n",
       "17.5          0.1597122  \n",
       "20            0.1824004  \n",
       "22.5          0.2749574  \n",
       "25            0.3220006  \n",
       "27.5          0.3917862  \n",
       "30            0.3889334  \n",
       "cannon         0.529392  \n",
       "super         0.8951446  \n",
       "1_5M          0.9490909  \n",
       "3M             1.653363  \n",
       "\n",
       "[13 rows x 23 columns]"
      ]
     },
     "execution_count": 2,
     "metadata": {},
     "output_type": "execute_result"
    }
   ],
   "source": [
    "newdata"
   ]
  },
  {
   "cell_type": "code",
   "execution_count": null,
   "metadata": {
    "collapsed": true
   },
   "outputs": [],
   "source": []
  }
 ],
 "metadata": {
  "kernelspec": {
   "display_name": "Python 2",
   "language": "python",
   "name": "python2"
  },
  "language_info": {
   "codemirror_mode": {
    "name": "ipython",
    "version": 2
   },
   "file_extension": ".py",
   "mimetype": "text/x-python",
   "name": "python",
   "nbconvert_exporter": "python",
   "pygments_lexer": "ipython2",
   "version": "2.7.6"
  }
 },
 "nbformat": 4,
 "nbformat_minor": 0
}
