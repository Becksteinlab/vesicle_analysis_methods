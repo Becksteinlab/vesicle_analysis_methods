{
 "cells": [
  {
   "cell_type": "code",
   "execution_count": 1,
   "metadata": {
    "collapsed": false
   },
   "outputs": [
    {
     "name": "stdout",
     "output_type": "stream",
     "text": [
      "MDA version: 0.11.0\n"
     ]
    }
   ],
   "source": [
    "import MDAnalysis as mda\n",
    "import time\n",
    "import os\n",
    "import numpy\n",
    "from multiprocessing import Pool\n",
    "import matplotlib.pyplot as plt\n",
    "import numpy as np\n",
    "import pandas as pd\n",
    "import glob\n",
    "import vesicle_analysis_methods as vam\n",
    "%matplotlib inline\n",
    "print(\"MDA version: \" + mda.__version__)"
   ]
  },
  {
   "cell_type": "markdown",
   "metadata": {},
   "source": [
    "# Spuddafett Performance"
   ]
  },
  {
   "cell_type": "code",
   "execution_count": 4,
   "metadata": {
    "collapsed": false
   },
   "outputs": [
    {
     "name": "stdout",
     "output_type": "stream",
     "text": [
      "Pickle loaded\n"
     ]
    }
   ],
   "source": [
    "hostname = \"spuddafett\"\n",
    "fig_dir = \"/nfs/homes/ikenney/Projects/vesicles/scripts/analysis/figs/\"\n",
    "data_dir = \"/nfs/homes/ikenney/Projects/vesicles/scripts/analysis/data/\"\n",
    "systems_dir = \"/nfs/homes/ikenney/Projects/vesicles/scripts/analysis/systems/\"\n",
    "\n",
    "values = [y.split('/')[-1] for y in glob.glob(\"systems/*\")]\n",
    "\n",
    "def fig_save(inputs):\n",
    "    paths = [fig_dir+inputs.replace(\" \",\"_\").lower()+\".png\",fig_dir+inputs.replace(\" \",\"_\").lower()+\".pdf\"]\n",
    "    for p in paths:\n",
    "        plt.savefig(p)\n",
    "        \n",
    "if os.path.exists(data_dir+\"performance_combined.df\"):\n",
    "    systems = pd.read_pickle(data_dir+\"performance_combined.df\")\n",
    "    print(\"Pickle loaded\")\n",
    "else:\n",
    "    systems = pd.DataFrame(index=values+['1_5M','3M'])\n",
    "    location = '/nfs/homes/ikenney/Projects/vesicles/vesicle_library/lib/{}/'.format('rad_gpu')\n",
    "    pd.DataFrame()\n",
    "    tops = list((location+'%s/nvt/nvt.tpr') % v for v in values)\n",
    "    traj = list((location+'%s/nvt/analysis.xtc') % v for v in values)\n",
    "    gros = list((location+'%s/emin/emin.gro') % v for v in values)\n",
    "    pdbs = list((location+'%s/emin/emin.pdb') % v for v in values)\n",
    "    systems['tops'] = list((location+'%s/nvt/nvt.tpr') % v for v in systems.index.tolist())\n",
    "    systems['traj'] = list((location+'%s/nvt/nvt.xtc') % v for v in systems.index.tolist())\n",
    "    systems['gros'] = list((location+'%s/emin/emin.gro') % v for v in systems.index.tolist())\n",
    "    systems['pdbs'] = list((location+'%s/emin/emin.pdb') % v for v in systems.index.tolist())\n",
    "    systems['sizes'] = list(mda.Universe((location+'%s/emin/emin.tpr') % v).atoms.n_atoms for v in systems.index.tolist())\n",
    "    print(\"Pickle not loaded. Creating new dataframe\")\n",
    "    systems.to_pickle(\"performance_combined.df\")"
   ]
  },
  {
   "cell_type": "code",
   "execution_count": 3,
   "metadata": {
    "collapsed": false,
    "scrolled": true
   },
   "outputs": [
    {
     "name": "stdout",
     "output_type": "stream",
     "text": [
      "'super' not found. Build? (y/n)\n",
      "Build:\tn\n",
      "'cannon' not found. Build? (y/n)\n",
      "Build:\ty\n",
      "Added to build list.\n",
      "\n",
      "Building system in: /nfs/homes/ikenney/Projects/vesicles/scripts/analysis/systems/cannon\n"
     ]
    },
    {
     "name": "stderr",
     "output_type": "stream",
     "text": [
      "/usr/local/lib/python2.7/dist-packages/MDAnalysis/coordinates/xdrfile/core.py:611: UserWarning: Aborted loading offsets from file; ctime or size did not match.\n",
      "  warnings.warn(\"Aborted loading offsets from file; ctime or size did not match.\")\n"
     ]
    }
   ],
   "source": [
    "testing = vam.integrity(systems,N=40)"
   ]
  },
  {
   "cell_type": "code",
   "execution_count": null,
   "metadata": {
    "collapsed": true
   },
   "outputs": [],
   "source": [
    "testing = pd.read_pickle(\"backup.df\")"
   ]
  },
  {
   "cell_type": "code",
   "execution_count": null,
   "metadata": {
    "collapsed": false
   },
   "outputs": [],
   "source": [
    "testing = vam.integrity(testing)"
   ]
  },
  {
   "cell_type": "code",
   "execution_count": 5,
   "metadata": {
    "collapsed": false
   },
   "outputs": [
    {
     "data": {
      "text/html": [
       "<div>\n",
       "<table border=\"1\" class=\"dataframe\">\n",
       "  <thead>\n",
       "    <tr style=\"text-align: right;\">\n",
       "      <th></th>\n",
       "      <th>tops</th>\n",
       "      <th>traj</th>\n",
       "      <th>gros</th>\n",
       "      <th>pdbs</th>\n",
       "      <th>sizes</th>\n",
       "      <th>load_tpr_xtc</th>\n",
       "      <th>load_tpr_xtc_mean</th>\n",
       "      <th>load_tpr_xtc_std</th>\n",
       "      <th>rgyr</th>\n",
       "      <th>rgyr_mean</th>\n",
       "      <th>...</th>\n",
       "      <th>load_gro_std</th>\n",
       "      <th>load_pdb</th>\n",
       "      <th>load_pdb_mean</th>\n",
       "      <th>load_pdb_std</th>\n",
       "      <th>load_gro_xtc</th>\n",
       "      <th>load_gro_xtc_mean</th>\n",
       "      <th>load_gro_xtc_std</th>\n",
       "      <th>load_pdb_xtc</th>\n",
       "      <th>load_pdb_xtc_mean</th>\n",
       "      <th>load_pdb_xtc_std</th>\n",
       "    </tr>\n",
       "  </thead>\n",
       "  <tbody>\n",
       "    <tr>\n",
       "      <th>10</th>\n",
       "      <td>/nfs/homes/ikenney/Projects/vesicles/vesicle_l...</td>\n",
       "      <td>/nfs/homes/ikenney/Projects/vesicles/vesicle_l...</td>\n",
       "      <td>/nfs/homes/ikenney/Projects/vesicles/vesicle_l...</td>\n",
       "      <td>/nfs/homes/ikenney/Projects/vesicles/vesicle_l...</td>\n",
       "      <td>84192</td>\n",
       "      <td>[0.906961917877, 0.646175146103, 0.64720201492...</td>\n",
       "      <td>0.6504799</td>\n",
       "      <td>0.05487724</td>\n",
       "      <td>[0.0645649433136, 0.0139439105988, 0.015058040...</td>\n",
       "      <td>0.01581439</td>\n",
       "      <td>...</td>\n",
       "      <td>0.03494941</td>\n",
       "      <td>[1.63636183739, 1.36882209778, 1.36998081207, ...</td>\n",
       "      <td>1.417405</td>\n",
       "      <td>0.04605079</td>\n",
       "      <td>[0.812260866165, 0.736067056656, 0.83000493049...</td>\n",
       "      <td>0.7845374</td>\n",
       "      <td>0.05229957</td>\n",
       "      <td>[0.900163173676, 0.734004020691, 0.83897209167...</td>\n",
       "      <td>0.7923271</td>\n",
       "      <td>0.05299975</td>\n",
       "    </tr>\n",
       "    <tr>\n",
       "      <th>12.5</th>\n",
       "      <td>/nfs/homes/ikenney/Projects/vesicles/vesicle_l...</td>\n",
       "      <td>/nfs/homes/ikenney/Projects/vesicles/vesicle_l...</td>\n",
       "      <td>/nfs/homes/ikenney/Projects/vesicles/vesicle_l...</td>\n",
       "      <td>/nfs/homes/ikenney/Projects/vesicles/vesicle_l...</td>\n",
       "      <td>122208</td>\n",
       "      <td>[1.08009600639, 0.910843849182, 0.953723907471...</td>\n",
       "      <td>0.9396519</td>\n",
       "      <td>0.0463124</td>\n",
       "      <td>[0.0495760440826, 0.0203349590302, 0.020339012...</td>\n",
       "      <td>0.01977546</td>\n",
       "      <td>...</td>\n",
       "      <td>0.04848028</td>\n",
       "      <td>[2.31244301796, 2.01326584816, 2.043364048, 2....</td>\n",
       "      <td>2.079531</td>\n",
       "      <td>0.06089958</td>\n",
       "      <td>[1.39565300941, 1.07016086578, 1.13729310036, ...</td>\n",
       "      <td>1.12375</td>\n",
       "      <td>0.05358611</td>\n",
       "      <td>[1.17889809608, 1.21457886696, 1.0854279995, 1...</td>\n",
       "      <td>1.147644</td>\n",
       "      <td>0.05051503</td>\n",
       "    </tr>\n",
       "    <tr>\n",
       "      <th>15</th>\n",
       "      <td>/nfs/homes/ikenney/Projects/vesicles/vesicle_l...</td>\n",
       "      <td>/nfs/homes/ikenney/Projects/vesicles/vesicle_l...</td>\n",
       "      <td>/nfs/homes/ikenney/Projects/vesicles/vesicle_l...</td>\n",
       "      <td>/nfs/homes/ikenney/Projects/vesicles/vesicle_l...</td>\n",
       "      <td>167352</td>\n",
       "      <td>[1.77836918831, 1.39890003204, 1.64059185982, ...</td>\n",
       "      <td>1.340833</td>\n",
       "      <td>0.09947243</td>\n",
       "      <td>[0.0664868354797, 0.0272431373596, 0.027190923...</td>\n",
       "      <td>0.02594769</td>\n",
       "      <td>...</td>\n",
       "      <td>0.06202191</td>\n",
       "      <td>[3.00930285454, 2.68005919456, 2.74405407906, ...</td>\n",
       "      <td>2.773912</td>\n",
       "      <td>0.08646917</td>\n",
       "      <td>[1.79708600044, 1.64452815056, 1.55634212494, ...</td>\n",
       "      <td>1.619298</td>\n",
       "      <td>0.07295249</td>\n",
       "      <td>[1.66879916191, 2.09777593613, 1.71681499481, ...</td>\n",
       "      <td>1.612537</td>\n",
       "      <td>0.1006321</td>\n",
       "    </tr>\n",
       "    <tr>\n",
       "      <th>17.5</th>\n",
       "      <td>/nfs/homes/ikenney/Projects/vesicles/vesicle_l...</td>\n",
       "      <td>/nfs/homes/ikenney/Projects/vesicles/vesicle_l...</td>\n",
       "      <td>/nfs/homes/ikenney/Projects/vesicles/vesicle_l...</td>\n",
       "      <td>/nfs/homes/ikenney/Projects/vesicles/vesicle_l...</td>\n",
       "      <td>219000</td>\n",
       "      <td>[2.1928319931, 1.78767418861, 1.77426505089, 1...</td>\n",
       "      <td>1.749344</td>\n",
       "      <td>0.09450337</td>\n",
       "      <td>[0.0840508937836, 0.0348660945892, 0.034923076...</td>\n",
       "      <td>0.03757927</td>\n",
       "      <td>...</td>\n",
       "      <td>0.06326917</td>\n",
       "      <td>[3.99988007545, 3.63028478622, 3.62102484703, ...</td>\n",
       "      <td>3.625912</td>\n",
       "      <td>0.102245</td>\n",
       "      <td>[2.24931502342, 2.13562107086, 2.11486291885, ...</td>\n",
       "      <td>2.128716</td>\n",
       "      <td>0.04828503</td>\n",
       "      <td>[2.34408187866, 2.55591106415, 2.05329394341, ...</td>\n",
       "      <td>2.145152</td>\n",
       "      <td>0.1113648</td>\n",
       "    </tr>\n",
       "    <tr>\n",
       "      <th>20</th>\n",
       "      <td>/nfs/homes/ikenney/Projects/vesicles/vesicle_l...</td>\n",
       "      <td>/nfs/homes/ikenney/Projects/vesicles/vesicle_l...</td>\n",
       "      <td>/nfs/homes/ikenney/Projects/vesicles/vesicle_l...</td>\n",
       "      <td>/nfs/homes/ikenney/Projects/vesicles/vesicle_l...</td>\n",
       "      <td>277728</td>\n",
       "      <td>[2.70102405548, 2.5904519558, 2.33227586746, 2...</td>\n",
       "      <td>2.213901</td>\n",
       "      <td>0.1317523</td>\n",
       "      <td>[0.152985811234, 0.0632860660553, 0.0613470077...</td>\n",
       "      <td>0.04632508</td>\n",
       "      <td>...</td>\n",
       "      <td>0.1099175</td>\n",
       "      <td>[4.67630195618, 4.63462018967, 4.60874700546, ...</td>\n",
       "      <td>4.560246</td>\n",
       "      <td>0.09073322</td>\n",
       "      <td>[2.61696100235, 3.19830989838, 2.75921392441, ...</td>\n",
       "      <td>2.649675</td>\n",
       "      <td>0.1192898</td>\n",
       "      <td>[2.62881994247, 2.64006900787, 2.69602799416, ...</td>\n",
       "      <td>2.686906</td>\n",
       "      <td>0.07284565</td>\n",
       "    </tr>\n",
       "    <tr>\n",
       "      <th>22.5</th>\n",
       "      <td>/nfs/homes/ikenney/Projects/vesicles/vesicle_l...</td>\n",
       "      <td>/nfs/homes/ikenney/Projects/vesicles/vesicle_l...</td>\n",
       "      <td>/nfs/homes/ikenney/Projects/vesicles/vesicle_l...</td>\n",
       "      <td>/nfs/homes/ikenney/Projects/vesicles/vesicle_l...</td>\n",
       "      <td>343500</td>\n",
       "      <td>[3.76799297333, 2.82876706123, 2.6613471508, 2...</td>\n",
       "      <td>2.746464</td>\n",
       "      <td>0.1914239</td>\n",
       "      <td>[0.134228944778, 0.0775680541992, 0.0524899959...</td>\n",
       "      <td>0.05333273</td>\n",
       "      <td>...</td>\n",
       "      <td>0.1314149</td>\n",
       "      <td>[5.77255916595, 5.47572803497, 5.42670607567, ...</td>\n",
       "      <td>5.538886</td>\n",
       "      <td>0.154933</td>\n",
       "      <td>[3.3411090374, 3.6380739212, 3.38899993896, 3....</td>\n",
       "      <td>3.438037</td>\n",
       "      <td>0.2916678</td>\n",
       "      <td>[3.84388685226, 3.62601113319, 3.33982300758, ...</td>\n",
       "      <td>3.377616</td>\n",
       "      <td>0.1170741</td>\n",
       "    </tr>\n",
       "    <tr>\n",
       "      <th>25</th>\n",
       "      <td>/nfs/homes/ikenney/Projects/vesicles/vesicle_l...</td>\n",
       "      <td>/nfs/homes/ikenney/Projects/vesicles/vesicle_l...</td>\n",
       "      <td>/nfs/homes/ikenney/Projects/vesicles/vesicle_l...</td>\n",
       "      <td>/nfs/homes/ikenney/Projects/vesicles/vesicle_l...</td>\n",
       "      <td>416208</td>\n",
       "      <td>[4.16732501984, 3.36751103401, 3.55466198921, ...</td>\n",
       "      <td>3.343667</td>\n",
       "      <td>0.1743339</td>\n",
       "      <td>[0.157492160797, 0.0635039806366, 0.0639500617...</td>\n",
       "      <td>0.06430526</td>\n",
       "      <td>...</td>\n",
       "      <td>0.1835957</td>\n",
       "      <td>[7.39194202423, 6.78926992416, 6.75242185593, ...</td>\n",
       "      <td>6.688067</td>\n",
       "      <td>0.1697763</td>\n",
       "      <td>[4.49250817299, 4.30882692337, 4.18519806862, ...</td>\n",
       "      <td>4.099888</td>\n",
       "      <td>0.2720013</td>\n",
       "      <td>[4.03310608864, 4.09609103203, 4.06430697441, ...</td>\n",
       "      <td>4.065651</td>\n",
       "      <td>0.1241423</td>\n",
       "    </tr>\n",
       "    <tr>\n",
       "      <th>27.5</th>\n",
       "      <td>/nfs/homes/ikenney/Projects/vesicles/vesicle_l...</td>\n",
       "      <td>/nfs/homes/ikenney/Projects/vesicles/vesicle_l...</td>\n",
       "      <td>/nfs/homes/ikenney/Projects/vesicles/vesicle_l...</td>\n",
       "      <td>/nfs/homes/ikenney/Projects/vesicles/vesicle_l...</td>\n",
       "      <td>496044</td>\n",
       "      <td>[4.52980208397, 4.10075211525, 4.23356795311, ...</td>\n",
       "      <td>3.972214</td>\n",
       "      <td>0.1719617</td>\n",
       "      <td>[0.186076879501, 0.0767650604248, 0.0777258872...</td>\n",
       "      <td>0.0772622</td>\n",
       "      <td>...</td>\n",
       "      <td>0.1896228</td>\n",
       "      <td>[8.1697280407, 8.13671398163, 8.10902285576, 8...</td>\n",
       "      <td>7.877341</td>\n",
       "      <td>0.2458983</td>\n",
       "      <td>[5.43226099014, 5.19249606133, 4.8875169754, 5...</td>\n",
       "      <td>4.814978</td>\n",
       "      <td>0.192175</td>\n",
       "      <td>[5.50663208961, 4.80474901199, 4.75451493263, ...</td>\n",
       "      <td>4.837418</td>\n",
       "      <td>0.193487</td>\n",
       "    </tr>\n",
       "    <tr>\n",
       "      <th>30</th>\n",
       "      <td>/nfs/homes/ikenney/Projects/vesicles/vesicle_l...</td>\n",
       "      <td>/nfs/homes/ikenney/Projects/vesicles/vesicle_l...</td>\n",
       "      <td>/nfs/homes/ikenney/Projects/vesicles/vesicle_l...</td>\n",
       "      <td>/nfs/homes/ikenney/Projects/vesicles/vesicle_l...</td>\n",
       "      <td>582984</td>\n",
       "      <td>[5.59129905701, 5.01238107681, 5.10038399696, ...</td>\n",
       "      <td>4.709377</td>\n",
       "      <td>0.2936181</td>\n",
       "      <td>[0.238270044327, 0.0853869915009, 0.0850641727...</td>\n",
       "      <td>0.09044503</td>\n",
       "      <td>...</td>\n",
       "      <td>0.2386741</td>\n",
       "      <td>[9.73937797546, 9.56810522079, 9.70904612541, ...</td>\n",
       "      <td>9.449684</td>\n",
       "      <td>0.34505</td>\n",
       "      <td>[6.42454004288, 6.03678894043, 5.79896402359, ...</td>\n",
       "      <td>5.653386</td>\n",
       "      <td>0.3690804</td>\n",
       "      <td>[5.54401493073, 6.03645706177, 5.72809791565, ...</td>\n",
       "      <td>5.662597</td>\n",
       "      <td>0.1969618</td>\n",
       "    </tr>\n",
       "    <tr>\n",
       "      <th>cannon</th>\n",
       "      <td>/nfs/homes/ikenney/Projects/vesicles/scripts/a...</td>\n",
       "      <td>/nfs/homes/ikenney/Projects/vesicles/scripts/a...</td>\n",
       "      <td>/nfs/homes/ikenney/Projects/vesicles/scripts/a...</td>\n",
       "      <td>/nfs/homes/ikenney/Projects/vesicles/scripts/a...</td>\n",
       "      <td>836760</td>\n",
       "      <td>[7.66172719002, 6.56834387779, 7.07172894478, ...</td>\n",
       "      <td>7.131501</td>\n",
       "      <td>0.3351867</td>\n",
       "      <td>NaN</td>\n",
       "      <td>NaN</td>\n",
       "      <td>...</td>\n",
       "      <td>0.5207997</td>\n",
       "      <td>[13.9209229946, 14.6505329609, 13.57873106, 13...</td>\n",
       "      <td>14.13312</td>\n",
       "      <td>0.6316031</td>\n",
       "      <td>[8.42772197723, 7.9099509716, 8.81739401817, 8...</td>\n",
       "      <td>8.632539</td>\n",
       "      <td>0.4613817</td>\n",
       "      <td>[10.922041893, 9.76231980324, 11.7397201061, 1...</td>\n",
       "      <td>17.28643</td>\n",
       "      <td>1.877134</td>\n",
       "    </tr>\n",
       "    <tr>\n",
       "      <th>1_5M</th>\n",
       "      <td>/nfs/homes/ikenney/Projects/vesicles/vesicle_l...</td>\n",
       "      <td>/nfs/homes/ikenney/Projects/vesicles/vesicle_l...</td>\n",
       "      <td>/nfs/homes/ikenney/Projects/vesicles/vesicle_l...</td>\n",
       "      <td>/nfs/homes/ikenney/Projects/vesicles/vesicle_l...</td>\n",
       "      <td>1748952</td>\n",
       "      <td>[14.1650409698, 14.0692229271, 14.2634739876, ...</td>\n",
       "      <td>14.34571</td>\n",
       "      <td>0.8717442</td>\n",
       "      <td>[0.61864900589, 0.25279211998, 0.253299951553,...</td>\n",
       "      <td>0.2747857</td>\n",
       "      <td>...</td>\n",
       "      <td>0.5737784</td>\n",
       "      <td>[27.9883971214, 28.9340240955, 27.4544789791, ...</td>\n",
       "      <td>27.40997</td>\n",
       "      <td>0.5351447</td>\n",
       "      <td>[15.4337790012, 17.3086161613, 16.6114761829, ...</td>\n",
       "      <td>15.92252</td>\n",
       "      <td>0.4767938</td>\n",
       "      <td>[17.2447168827, 17.0118489265, 17.0601739883, ...</td>\n",
       "      <td>16.22362</td>\n",
       "      <td>0.6735259</td>\n",
       "    </tr>\n",
       "    <tr>\n",
       "      <th>3M</th>\n",
       "      <td>/nfs/homes/ikenney/Projects/vesicles/vesicle_l...</td>\n",
       "      <td>/nfs/homes/ikenney/Projects/vesicles/vesicle_l...</td>\n",
       "      <td>/nfs/homes/ikenney/Projects/vesicles/vesicle_l...</td>\n",
       "      <td>/nfs/homes/ikenney/Projects/vesicles/vesicle_l...</td>\n",
       "      <td>3497904</td>\n",
       "      <td>[26.3995709419, 28.8974997997, 28.1239469051, ...</td>\n",
       "      <td>28.33872</td>\n",
       "      <td>1.104139</td>\n",
       "      <td>[1.25132608414]</td>\n",
       "      <td>1.251326</td>\n",
       "      <td>...</td>\n",
       "      <td>1.061482</td>\n",
       "      <td>[57.6288261414, 55.7814202309, 56.0229780674, ...</td>\n",
       "      <td>55.52036</td>\n",
       "      <td>1.102688</td>\n",
       "      <td>[28.6840062141, 34.2470800877, 31.8501598835, ...</td>\n",
       "      <td>31.02836</td>\n",
       "      <td>1.176097</td>\n",
       "      <td>[29.4552030563, 32.8937180042, 32.6021881104, ...</td>\n",
       "      <td>30.88916</td>\n",
       "      <td>1.103621</td>\n",
       "    </tr>\n",
       "  </tbody>\n",
       "</table>\n",
       "<p>12 rows × 23 columns</p>\n",
       "</div>"
      ],
      "text/plain": [
       "                                                     tops  \\\n",
       "10      /nfs/homes/ikenney/Projects/vesicles/vesicle_l...   \n",
       "12.5    /nfs/homes/ikenney/Projects/vesicles/vesicle_l...   \n",
       "15      /nfs/homes/ikenney/Projects/vesicles/vesicle_l...   \n",
       "17.5    /nfs/homes/ikenney/Projects/vesicles/vesicle_l...   \n",
       "20      /nfs/homes/ikenney/Projects/vesicles/vesicle_l...   \n",
       "22.5    /nfs/homes/ikenney/Projects/vesicles/vesicle_l...   \n",
       "25      /nfs/homes/ikenney/Projects/vesicles/vesicle_l...   \n",
       "27.5    /nfs/homes/ikenney/Projects/vesicles/vesicle_l...   \n",
       "30      /nfs/homes/ikenney/Projects/vesicles/vesicle_l...   \n",
       "cannon  /nfs/homes/ikenney/Projects/vesicles/scripts/a...   \n",
       "1_5M    /nfs/homes/ikenney/Projects/vesicles/vesicle_l...   \n",
       "3M      /nfs/homes/ikenney/Projects/vesicles/vesicle_l...   \n",
       "\n",
       "                                                     traj  \\\n",
       "10      /nfs/homes/ikenney/Projects/vesicles/vesicle_l...   \n",
       "12.5    /nfs/homes/ikenney/Projects/vesicles/vesicle_l...   \n",
       "15      /nfs/homes/ikenney/Projects/vesicles/vesicle_l...   \n",
       "17.5    /nfs/homes/ikenney/Projects/vesicles/vesicle_l...   \n",
       "20      /nfs/homes/ikenney/Projects/vesicles/vesicle_l...   \n",
       "22.5    /nfs/homes/ikenney/Projects/vesicles/vesicle_l...   \n",
       "25      /nfs/homes/ikenney/Projects/vesicles/vesicle_l...   \n",
       "27.5    /nfs/homes/ikenney/Projects/vesicles/vesicle_l...   \n",
       "30      /nfs/homes/ikenney/Projects/vesicles/vesicle_l...   \n",
       "cannon  /nfs/homes/ikenney/Projects/vesicles/scripts/a...   \n",
       "1_5M    /nfs/homes/ikenney/Projects/vesicles/vesicle_l...   \n",
       "3M      /nfs/homes/ikenney/Projects/vesicles/vesicle_l...   \n",
       "\n",
       "                                                     gros  \\\n",
       "10      /nfs/homes/ikenney/Projects/vesicles/vesicle_l...   \n",
       "12.5    /nfs/homes/ikenney/Projects/vesicles/vesicle_l...   \n",
       "15      /nfs/homes/ikenney/Projects/vesicles/vesicle_l...   \n",
       "17.5    /nfs/homes/ikenney/Projects/vesicles/vesicle_l...   \n",
       "20      /nfs/homes/ikenney/Projects/vesicles/vesicle_l...   \n",
       "22.5    /nfs/homes/ikenney/Projects/vesicles/vesicle_l...   \n",
       "25      /nfs/homes/ikenney/Projects/vesicles/vesicle_l...   \n",
       "27.5    /nfs/homes/ikenney/Projects/vesicles/vesicle_l...   \n",
       "30      /nfs/homes/ikenney/Projects/vesicles/vesicle_l...   \n",
       "cannon  /nfs/homes/ikenney/Projects/vesicles/scripts/a...   \n",
       "1_5M    /nfs/homes/ikenney/Projects/vesicles/vesicle_l...   \n",
       "3M      /nfs/homes/ikenney/Projects/vesicles/vesicle_l...   \n",
       "\n",
       "                                                     pdbs    sizes  \\\n",
       "10      /nfs/homes/ikenney/Projects/vesicles/vesicle_l...    84192   \n",
       "12.5    /nfs/homes/ikenney/Projects/vesicles/vesicle_l...   122208   \n",
       "15      /nfs/homes/ikenney/Projects/vesicles/vesicle_l...   167352   \n",
       "17.5    /nfs/homes/ikenney/Projects/vesicles/vesicle_l...   219000   \n",
       "20      /nfs/homes/ikenney/Projects/vesicles/vesicle_l...   277728   \n",
       "22.5    /nfs/homes/ikenney/Projects/vesicles/vesicle_l...   343500   \n",
       "25      /nfs/homes/ikenney/Projects/vesicles/vesicle_l...   416208   \n",
       "27.5    /nfs/homes/ikenney/Projects/vesicles/vesicle_l...   496044   \n",
       "30      /nfs/homes/ikenney/Projects/vesicles/vesicle_l...   582984   \n",
       "cannon  /nfs/homes/ikenney/Projects/vesicles/scripts/a...   836760   \n",
       "1_5M    /nfs/homes/ikenney/Projects/vesicles/vesicle_l...  1748952   \n",
       "3M      /nfs/homes/ikenney/Projects/vesicles/vesicle_l...  3497904   \n",
       "\n",
       "                                             load_tpr_xtc load_tpr_xtc_mean  \\\n",
       "10      [0.906961917877, 0.646175146103, 0.64720201492...         0.6504799   \n",
       "12.5    [1.08009600639, 0.910843849182, 0.953723907471...         0.9396519   \n",
       "15      [1.77836918831, 1.39890003204, 1.64059185982, ...          1.340833   \n",
       "17.5    [2.1928319931, 1.78767418861, 1.77426505089, 1...          1.749344   \n",
       "20      [2.70102405548, 2.5904519558, 2.33227586746, 2...          2.213901   \n",
       "22.5    [3.76799297333, 2.82876706123, 2.6613471508, 2...          2.746464   \n",
       "25      [4.16732501984, 3.36751103401, 3.55466198921, ...          3.343667   \n",
       "27.5    [4.52980208397, 4.10075211525, 4.23356795311, ...          3.972214   \n",
       "30      [5.59129905701, 5.01238107681, 5.10038399696, ...          4.709377   \n",
       "cannon  [7.66172719002, 6.56834387779, 7.07172894478, ...          7.131501   \n",
       "1_5M    [14.1650409698, 14.0692229271, 14.2634739876, ...          14.34571   \n",
       "3M      [26.3995709419, 28.8974997997, 28.1239469051, ...          28.33872   \n",
       "\n",
       "       load_tpr_xtc_std                                               rgyr  \\\n",
       "10           0.05487724  [0.0645649433136, 0.0139439105988, 0.015058040...   \n",
       "12.5          0.0463124  [0.0495760440826, 0.0203349590302, 0.020339012...   \n",
       "15           0.09947243  [0.0664868354797, 0.0272431373596, 0.027190923...   \n",
       "17.5         0.09450337  [0.0840508937836, 0.0348660945892, 0.034923076...   \n",
       "20            0.1317523  [0.152985811234, 0.0632860660553, 0.0613470077...   \n",
       "22.5          0.1914239  [0.134228944778, 0.0775680541992, 0.0524899959...   \n",
       "25            0.1743339  [0.157492160797, 0.0635039806366, 0.0639500617...   \n",
       "27.5          0.1719617  [0.186076879501, 0.0767650604248, 0.0777258872...   \n",
       "30            0.2936181  [0.238270044327, 0.0853869915009, 0.0850641727...   \n",
       "cannon        0.3351867                                                NaN   \n",
       "1_5M          0.8717442  [0.61864900589, 0.25279211998, 0.253299951553,...   \n",
       "3M             1.104139                                    [1.25132608414]   \n",
       "\n",
       "         rgyr_mean       ...        load_gro_std  \\\n",
       "10      0.01581439       ...          0.03494941   \n",
       "12.5    0.01977546       ...          0.04848028   \n",
       "15      0.02594769       ...          0.06202191   \n",
       "17.5    0.03757927       ...          0.06326917   \n",
       "20      0.04632508       ...           0.1099175   \n",
       "22.5    0.05333273       ...           0.1314149   \n",
       "25      0.06430526       ...           0.1835957   \n",
       "27.5     0.0772622       ...           0.1896228   \n",
       "30      0.09044503       ...           0.2386741   \n",
       "cannon         NaN       ...           0.5207997   \n",
       "1_5M     0.2747857       ...           0.5737784   \n",
       "3M        1.251326       ...            1.061482   \n",
       "\n",
       "                                                 load_pdb load_pdb_mean  \\\n",
       "10      [1.63636183739, 1.36882209778, 1.36998081207, ...      1.417405   \n",
       "12.5    [2.31244301796, 2.01326584816, 2.043364048, 2....      2.079531   \n",
       "15      [3.00930285454, 2.68005919456, 2.74405407906, ...      2.773912   \n",
       "17.5    [3.99988007545, 3.63028478622, 3.62102484703, ...      3.625912   \n",
       "20      [4.67630195618, 4.63462018967, 4.60874700546, ...      4.560246   \n",
       "22.5    [5.77255916595, 5.47572803497, 5.42670607567, ...      5.538886   \n",
       "25      [7.39194202423, 6.78926992416, 6.75242185593, ...      6.688067   \n",
       "27.5    [8.1697280407, 8.13671398163, 8.10902285576, 8...      7.877341   \n",
       "30      [9.73937797546, 9.56810522079, 9.70904612541, ...      9.449684   \n",
       "cannon  [13.9209229946, 14.6505329609, 13.57873106, 13...      14.13312   \n",
       "1_5M    [27.9883971214, 28.9340240955, 27.4544789791, ...      27.40997   \n",
       "3M      [57.6288261414, 55.7814202309, 56.0229780674, ...      55.52036   \n",
       "\n",
       "       load_pdb_std                                       load_gro_xtc  \\\n",
       "10       0.04605079  [0.812260866165, 0.736067056656, 0.83000493049...   \n",
       "12.5     0.06089958  [1.39565300941, 1.07016086578, 1.13729310036, ...   \n",
       "15       0.08646917  [1.79708600044, 1.64452815056, 1.55634212494, ...   \n",
       "17.5       0.102245  [2.24931502342, 2.13562107086, 2.11486291885, ...   \n",
       "20       0.09073322  [2.61696100235, 3.19830989838, 2.75921392441, ...   \n",
       "22.5       0.154933  [3.3411090374, 3.6380739212, 3.38899993896, 3....   \n",
       "25        0.1697763  [4.49250817299, 4.30882692337, 4.18519806862, ...   \n",
       "27.5      0.2458983  [5.43226099014, 5.19249606133, 4.8875169754, 5...   \n",
       "30          0.34505  [6.42454004288, 6.03678894043, 5.79896402359, ...   \n",
       "cannon    0.6316031  [8.42772197723, 7.9099509716, 8.81739401817, 8...   \n",
       "1_5M      0.5351447  [15.4337790012, 17.3086161613, 16.6114761829, ...   \n",
       "3M         1.102688  [28.6840062141, 34.2470800877, 31.8501598835, ...   \n",
       "\n",
       "       load_gro_xtc_mean load_gro_xtc_std  \\\n",
       "10             0.7845374       0.05229957   \n",
       "12.5             1.12375       0.05358611   \n",
       "15              1.619298       0.07295249   \n",
       "17.5            2.128716       0.04828503   \n",
       "20              2.649675        0.1192898   \n",
       "22.5            3.438037        0.2916678   \n",
       "25              4.099888        0.2720013   \n",
       "27.5            4.814978         0.192175   \n",
       "30              5.653386        0.3690804   \n",
       "cannon          8.632539        0.4613817   \n",
       "1_5M            15.92252        0.4767938   \n",
       "3M              31.02836         1.176097   \n",
       "\n",
       "                                             load_pdb_xtc load_pdb_xtc_mean  \\\n",
       "10      [0.900163173676, 0.734004020691, 0.83897209167...         0.7923271   \n",
       "12.5    [1.17889809608, 1.21457886696, 1.0854279995, 1...          1.147644   \n",
       "15      [1.66879916191, 2.09777593613, 1.71681499481, ...          1.612537   \n",
       "17.5    [2.34408187866, 2.55591106415, 2.05329394341, ...          2.145152   \n",
       "20      [2.62881994247, 2.64006900787, 2.69602799416, ...          2.686906   \n",
       "22.5    [3.84388685226, 3.62601113319, 3.33982300758, ...          3.377616   \n",
       "25      [4.03310608864, 4.09609103203, 4.06430697441, ...          4.065651   \n",
       "27.5    [5.50663208961, 4.80474901199, 4.75451493263, ...          4.837418   \n",
       "30      [5.54401493073, 6.03645706177, 5.72809791565, ...          5.662597   \n",
       "cannon  [10.922041893, 9.76231980324, 11.7397201061, 1...          17.28643   \n",
       "1_5M    [17.2447168827, 17.0118489265, 17.0601739883, ...          16.22362   \n",
       "3M      [29.4552030563, 32.8937180042, 32.6021881104, ...          30.88916   \n",
       "\n",
       "       load_pdb_xtc_std  \n",
       "10           0.05299975  \n",
       "12.5         0.05051503  \n",
       "15            0.1006321  \n",
       "17.5          0.1113648  \n",
       "20           0.07284565  \n",
       "22.5          0.1170741  \n",
       "25            0.1241423  \n",
       "27.5           0.193487  \n",
       "30            0.1969618  \n",
       "cannon         1.877134  \n",
       "1_5M          0.6735259  \n",
       "3M             1.103621  \n",
       "\n",
       "[12 rows x 23 columns]"
      ]
     },
     "execution_count": 5,
     "metadata": {},
     "output_type": "execute_result"
    }
   ],
   "source": [
    "testing"
   ]
  },
  {
   "cell_type": "markdown",
   "metadata": {},
   "source": [
    "## Radius of Gyration"
   ]
  },
  {
   "cell_type": "code",
   "execution_count": null,
   "metadata": {
    "collapsed": false
   },
   "outputs": [],
   "source": [
    "def performance(a):\n",
    "    u = mda.Universe(a[0],a[1])\n",
    "    vals = []\n",
    "    for frame in u.trajectory:\n",
    "        start = time.time()\n",
    "        u.atoms.radiusOfGyration()\n",
    "        vals.append(time.time()-start)\n",
    "    return vals"
   ]
  },
  {
   "cell_type": "markdown",
   "metadata": {},
   "source": [
    "Record times to perform radius of gyration calculations on each data set"
   ]
  },
  {
   "cell_type": "code",
   "execution_count": null,
   "metadata": {
    "collapsed": true
   },
   "outputs": [],
   "source": [
    "p = Pool(len(values))\n",
    "processlist = list([systems['tops'][x],systems['traj'][x],systems['sizes'][x]] for x in range(len(systems)))\n",
    "data = p.map(performance,processlist)\n",
    "systems['rgyr'] = data\n",
    "p.close()\n",
    "timedata = np.array([[np.mean(x),np.std(x)] for x in data])\n",
    "systems['rgyr_mean'] = list(np.mean(r) for r in systems['rgyr'])\n",
    "systems['rgyr_std'] = list(np.std(r) for r in systems['rgyr'])\n",
    "systems.to_pickle(\"performance_combined.df\")"
   ]
  },
  {
   "cell_type": "code",
   "execution_count": null,
   "metadata": {
    "collapsed": false
   },
   "outputs": [],
   "source": [
    "#plt.figure(figsize=(8,4))\n",
    "plt.title(\"Radius of Gyration Performance on {}\".format(hostname))\n",
    "plt.xlabel(\"System Size (atoms)\")\n",
    "plt.ylabel(\"Calculation time (s)\")\n",
    "plt.errorbar(systems['sizes'],systems['rgyr_mean'],yerr=systems['rgyr_std'])\n",
    "#plt.savefig(\"/nfs/homes/ikenney/report/figs/geometric/calc_time_vs_system.png\")\n",
    "#plt.savefig(\"/nfs/homes/ikenney/report/figs/geometric/calc_time_vs_system.pdf\")"
   ]
  },
  {
   "cell_type": "markdown",
   "metadata": {},
   "source": [
    "## Load Times"
   ]
  },
  {
   "cell_type": "markdown",
   "metadata": {},
   "source": [
    "Record times for loading universes with different schemes"
   ]
  },
  {
   "cell_type": "markdown",
   "metadata": {},
   "source": [
    "### TPR and XTC"
   ]
  },
  {
   "cell_type": "code",
   "execution_count": null,
   "metadata": {
    "collapsed": false
   },
   "outputs": [],
   "source": [
    "N = 40\n",
    "def performanceload(a):\n",
    "    res = a[3]\n",
    "    def load():\n",
    "        start = time.time()\n",
    "        u = mda.Universe(a[0],a[1])\n",
    "        return time.time() - start\n",
    "    return [load() for _ in range(res)]"
   ]
  },
  {
   "cell_type": "code",
   "execution_count": null,
   "metadata": {
    "collapsed": false
   },
   "outputs": [],
   "source": [
    "N = 40\n",
    "p = Pool(len(values))\n",
    "processlist = list([systems['tops'][x],systems['traj'][x],systems['sizes'],N] for x in range(len(systems.index.tolist())))\n",
    "dataload = p.map(performanceload,processlist)\n",
    "systems['load_tpr_xtc'] = dataload\n",
    "p.close()\n",
    "systems['load_tpr_xtc_mean'] = list(np.mean(r) for r in systems['load_tpr_xtc'])\n",
    "systems['load_tpr_xtc_std'] = list(np.std(r) for r in systems['load_tpr_xtc'])\n",
    "systems.to_pickle(\"performance_combined.df\")"
   ]
  },
  {
   "cell_type": "code",
   "execution_count": null,
   "metadata": {
    "collapsed": true
   },
   "outputs": [],
   "source": [
    "systems.to_pickle(\"performance_combined.df\")"
   ]
  },
  {
   "cell_type": "code",
   "execution_count": null,
   "metadata": {
    "collapsed": true
   },
   "outputs": [],
   "source": [
    "systems['load_tpr_xtc_median'] = list(np.median(r) for r in systems['load_tpr_xtc'])"
   ]
  },
  {
   "cell_type": "code",
   "execution_count": null,
   "metadata": {
    "collapsed": false
   },
   "outputs": [],
   "source": [
    "N = 40\n",
    "inputs = \"TPR and XTC\"\n",
    "#plt.figure(figsize=(8,4))\n",
    "plt.title(\"Load Time Performance on {0} loading {1} ({2} runs)\".format(hostname,inputs,N))\n",
    "plt.xlabel(\"System Size (atoms)\")\n",
    "plt.ylabel(\"Load time (s)\")\n",
    "A = plt.errorbar(systems['sizes'],systems['load_tpr_xtc_mean'],yerr=systems['load_tpr_xtc_std'])\n",
    "fig_save(inputs)"
   ]
  },
  {
   "cell_type": "markdown",
   "metadata": {},
   "source": [
    "### GRO only"
   ]
  },
  {
   "cell_type": "code",
   "execution_count": null,
   "metadata": {
    "collapsed": false
   },
   "outputs": [],
   "source": [
    "N = 40\n",
    "def performanceload(a):\n",
    "    res = a[2]\n",
    "    def load():\n",
    "        start = time.time()\n",
    "        u = mda.Universe(a[0])\n",
    "        return time.time() - start\n",
    "    return [load() for _ in range(res)]"
   ]
  },
  {
   "cell_type": "code",
   "execution_count": null,
   "metadata": {
    "collapsed": true
   },
   "outputs": [],
   "source": [
    "p = Pool(len(values))\n",
    "processlist = list([systems['gros'][x],systems['sizes'][x],N] for x in range(len(systems)))\n",
    "dataload = p.map(performanceload,processlist) \n",
    "systems['load_gro'] = dataload\n",
    "p.close()\n",
    "systems['load_gro_mean'] = list(np.mean(r) for r in systems['load_gro'])\n",
    "systems['load_gro_std'] = list(np.std(r) for r in systems['load_gro'])\n",
    "systems.to_pickle(\"performance_combined.df\")"
   ]
  },
  {
   "cell_type": "code",
   "execution_count": null,
   "metadata": {
    "collapsed": false
   },
   "outputs": [],
   "source": [
    "inputs = \"GRO\"\n",
    "#plt.figure(figsize=(8,4))\n",
    "plt.title(\"Load Time Performance on {0} loading {1} ({2} runs)\".format(hostname,inputs,N))\n",
    "plt.xlabel(\"System Size (atoms)\")\n",
    "plt.ylabel(\"Load time (s)\")\n",
    "B = plt.errorbar(systems['sizes'],systems['load_gro_mean'],yerr=systems['load_gro_std'])\n",
    "#plt.savefig(\"/nfs/homes/ikenney/report/figs/loading/\"+inputs.replace(\" \",\"_\").lower())\n",
    "#plt.savefig(\"/nfs/homes/ikenney/report/figs/loading/\"+inputs.replace(\" \",\"_\").lower()+\".pdf\")"
   ]
  },
  {
   "cell_type": "markdown",
   "metadata": {},
   "source": [
    "## PDB only"
   ]
  },
  {
   "cell_type": "code",
   "execution_count": null,
   "metadata": {
    "collapsed": false
   },
   "outputs": [],
   "source": [
    "N = 40\n",
    "def performanceload(a):\n",
    "    res = a[2]\n",
    "    def load():\n",
    "        start = time.time()\n",
    "        u = mda.Universe(a[0])\n",
    "        return time.time() - start\n",
    "    return [load() for _ in range(res)]"
   ]
  },
  {
   "cell_type": "code",
   "execution_count": null,
   "metadata": {
    "collapsed": false
   },
   "outputs": [],
   "source": [
    "p = Pool(len(values))\n",
    "processlist = list([systems['pdbs'][x],systems['sizes'][x],N] for x in range(len(systems)))\n",
    "dataload = p.map(performanceload,processlist)   \n",
    "systems[\"load_pdb\"] = dataload\n",
    "p.close()\n",
    "systems['load_pdb_mean'] = list(np.mean(r) for r in systems['load_pdb'])\n",
    "systems['load_pdb_std'] = list(np.std(r) for r in systems['load_pdb'])\n",
    "systems.to_pickle(\"performance_combined.df\")"
   ]
  },
  {
   "cell_type": "code",
   "execution_count": null,
   "metadata": {
    "collapsed": false
   },
   "outputs": [],
   "source": [
    "inputs = \"PDB\"\n",
    "#plt.figure(figsize=(8,4))\n",
    "plt.title(\"Load Time Performance on {0} loading {1} ({2} runs)\".format(hostname,inputs,N))\n",
    "plt.xlabel(\"System Size (atoms)\")\n",
    "plt.ylabel(\"Load time (s)\")\n",
    "C = plt.errorbar(systems['sizes'],systems['load_pdb_mean'],yerr=systems['load_pdb_std'])\n",
    "#plt.savefig(\"/nfs/homes/ikenney/report/figs/loading/\"+inputs.replace(\" \",\"_\").lower())\n",
    "#plt.savefig(\"/nfs/homes/ikenney/report/figs/loading/\"+inputs.replace(\" \",\"_\").lower()+\".pdf\")"
   ]
  },
  {
   "cell_type": "markdown",
   "metadata": {},
   "source": [
    "## GRO and XTC"
   ]
  },
  {
   "cell_type": "code",
   "execution_count": null,
   "metadata": {
    "collapsed": false
   },
   "outputs": [],
   "source": [
    "def performanceload(a):\n",
    "    res = a[3]\n",
    "    def load():\n",
    "        start = time.time()\n",
    "        u = mda.Universe(a[0],a[1])\n",
    "        return time.time() - start\n",
    "    return [load() for _ in range(res)]"
   ]
  },
  {
   "cell_type": "code",
   "execution_count": null,
   "metadata": {
    "collapsed": false
   },
   "outputs": [],
   "source": [
    "N = 40\n",
    "p = Pool(len(values))\n",
    "processlist = list([systems['gros'][x],systems['traj'][x],systems['sizes'][x],N] for x in range(len(systems)))\n",
    "dataload = p.map(performanceload,processlist)    \n",
    "systems['load_gro_xtc'] = dataload\n",
    "p.close()\n",
    "systems['load_gro_xtc_mean'] = list(np.mean(r) for r in systems['load_gro_xtc'])\n",
    "systems['load_gro_xtc_std'] = list(np.std(r) for r in systems['load_gro_xtc'])\n",
    "systems.to_pickle(\"performance_combined.df\")"
   ]
  },
  {
   "cell_type": "code",
   "execution_count": null,
   "metadata": {
    "collapsed": false
   },
   "outputs": [],
   "source": [
    "inputs = \"GRO and XTC\"\n",
    "#plt.figure(figsize=(8,4))\n",
    "plt.title(\"Load Time Performance on {0} loading {1} ({2} runs)\".format(hostname,inputs,N))\n",
    "plt.xlabel(\"System Size (atoms)\")\n",
    "plt.ylabel(\"Load time (s)\")\n",
    "D = plt.errorbar(systems['sizes'],systems['load_gro_xtc_mean'],yerr=systems['load_gro_xtc_std'])\n",
    "#plt.savefig(\"/nfs/homes/ikenney/report/figs/loading/\"+inputs.replace(\" \",\"_\").lower())\n",
    "#plt.savefig(\"/nfs/homes/ikenney/report/figs/loading/\"+inputs.replace(\" \",\"_\").lower()+\".pdf\")"
   ]
  },
  {
   "cell_type": "markdown",
   "metadata": {},
   "source": [
    "### PDB and XTC"
   ]
  },
  {
   "cell_type": "code",
   "execution_count": null,
   "metadata": {
    "collapsed": false
   },
   "outputs": [],
   "source": [
    "def performanceload(a):\n",
    "    res = a[3]\n",
    "    def load():\n",
    "        start = time.time()\n",
    "        u = mda.Universe(a[0],a[1])\n",
    "        return time.time() - start\n",
    "    return [load() for _ in range(res)]"
   ]
  },
  {
   "cell_type": "code",
   "execution_count": null,
   "metadata": {
    "collapsed": true
   },
   "outputs": [],
   "source": [
    "N = 40\n",
    "p = Pool(len(values))\n",
    "processlist = list([systems['gros'][x],systems['traj'][x],systems['sizes'][x],N] for x in range(len(systems)))\n",
    "dataload = p.map(performanceload,processlist)    \n",
    "systems['load_pdb_xtc'] = dataload\n",
    "p.close()\n",
    "systems['load_pdb_xtc_mean'] = list(np.mean(r) for r in systems['load_pdb_xtc'])\n",
    "systems['load_pdb_xtc_std'] = list(np.std(r) for r in systems['load_pdb_xtc'])\n",
    "systems.to_pickle(\"performance_combined.df\")"
   ]
  },
  {
   "cell_type": "code",
   "execution_count": null,
   "metadata": {
    "collapsed": false
   },
   "outputs": [],
   "source": [
    "inputs = \"PDB and XTC\"\n",
    "#plt.figure(figsize=(8,4))\n",
    "plt.title(\"Load Time Performance on {0} loading {1} ({2} runs)\".format(hostname,inputs,N))\n",
    "plt.xlabel(\"System Size (atoms)\")\n",
    "plt.ylabel(\"Load time (s)\")\n",
    "E = plt.errorbar(systems['sizes'],systems['load_pdb_xtc_mean'],yerr=systems['load_pdb_xtc_std'])\n",
    "#plt.savefig(\"/nfs/homes/ikenney/report/figs/loading/\"+inputs.replace(\" \",\"_\").lower())\n",
    "#plt.savefig(\"/nfs/homes/ikenney/report/figs/loading/\"+inputs.replace(\" \",\"_\").lower()+\".pdf\")"
   ]
  },
  {
   "cell_type": "code",
   "execution_count": 7,
   "metadata": {
    "collapsed": false
   },
   "outputs": [
    {
     "data": {
      "text/plain": [
       "<matplotlib.legend.Legend at 0x7f8473b95cd0>"
      ]
     },
     "execution_count": 7,
     "metadata": {},
     "output_type": "execute_result"
    },
    {
     "data": {
      "image/png": "[encoded data removed]",
      "text/plain": [
       "<matplotlib.figure.Figure at 0x7f8466e13910>"
      ]
     },
     "metadata": {},
     "output_type": "display_data"
    }
   ],
   "source": [
    "plt.title(\"Load Time Performance on spuddafett (40 runs)\")\n",
    "plt.ylabel(\"Load Time (s)\")\n",
    "plt.xlabel(\"System Size (atoms)\")\n",
    "plots = [plt.errorbar(systems['sizes'],systems['load_tpr_xtc_mean'],yerr=systems['load_tpr_xtc_std']),plt.errorbar(systems['sizes'],systems['load_gro_mean'],yerr=systems['load_gro_std']),plt.errorbar(systems['sizes'],systems['load_pdb_mean'],yerr=systems['load_pdb_std']),plt.errorbar(systems['sizes'],systems['load_gro_xtc_mean'],yerr=systems['load_gro_xtc_std']),plt.errorbar(systems['sizes'],systems['load_pdb_xtc_mean'],yerr=systems['load_pdb_xtc_std'])]\n",
    "plt.legend(plots,[\"TPR,XTC\",\"GRO\",\"PDB\",\"GRO,XTC\",\"PDB,XTC\"],loc='best')\n",
    "#plt.savefig(\"/nfs/homes/ikenney/report/figs/loading/combined_load\")\n",
    "#plt.savefig(\"/nfs/homes/ikenney/report/figs/loading/combined_load.pdf\")"
   ]
  },
  {
   "cell_type": "code",
   "execution_count": 6,
   "metadata": {
    "collapsed": true
   },
   "outputs": [],
   "source": [
    "systems = testing"
   ]
  },
  {
   "cell_type": "code",
   "execution_count": null,
   "metadata": {
    "collapsed": true
   },
   "outputs": [],
   "source": []
  }
 ],
 "metadata": {
  "kernelspec": {
   "display_name": "Python 2",
   "language": "python",
   "name": "python2"
  },
  "language_info": {
   "codemirror_mode": {
    "name": "ipython",
    "version": 2
   },
   "file_extension": ".py",
   "mimetype": "text/x-python",
   "name": "python",
   "nbconvert_exporter": "python",
   "pygments_lexer": "ipython2",
   "version": "2.7.6"
  }
 },
 "nbformat": 4,
 "nbformat_minor": 0
}
